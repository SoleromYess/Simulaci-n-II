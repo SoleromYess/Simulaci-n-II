{
  "nbformat": 4,
  "nbformat_minor": 0,
  "metadata": {
    "colab": {
      "provenance": [],
      "authorship_tag": "ABX9TyNz2e3HImjgmcazEjXSkkAn",
      "include_colab_link": true
    },
    "kernelspec": {
      "name": "python3",
      "display_name": "Python 3"
    },
    "language_info": {
      "name": "python"
    }
  },
  "cells": [
    {
      "cell_type": "markdown",
      "metadata": {
        "id": "view-in-github",
        "colab_type": "text"
      },
      "source": [
        "<a href=\"https://colab.research.google.com/github/SoleromYess/Simulaci-n-II/blob/main/1erParcial_Examen/2_Problema_del_quiosquero.ipynb\" target=\"_parent\"><img src=\"https://colab.research.google.com/assets/colab-badge.svg\" alt=\"Open In Colab\"/></a>"
      ]
    },
    {
      "cell_type": "markdown",
      "source": [
        "Yessica Morelos Moreno\n",
        "#**Problema del quiosquero**"
      ],
      "metadata": {
        "id": "adO1NVrnv9k4"
      }
    },
    {
      "cell_type": "markdown",
      "source": [
        "Un quiosquero vende periódicos a 1.10 euros cada uno. Cada periódico le cuesta al quiosquero 0.90 euros. Las ventas de periódicos del quiosquero a partir de su experiencia se refleja en la tabla siguiente.\n",
        "\n",
        "\n",
        "|**PERIÓDICOS**|**30**|**40**|**50**|**60**|**70**|  \n",
        "|----------|--|--|--|--|--|\n",
        "|**f(x)**|20%|25%|25%|20%|10%|\n",
        "\n",
        "\n",
        "La tabla recoge por ejemplo que el 20 % del tiempo las ventas han sido de 30 periódicos. Teniendo en cuenta el coste de 0.20 euros por venta perdida y el coste de 0.10 euros por el reciclaje de cada periódico no vendido, determine el beneficio promedio diario si pide 50 periódicos cada día.\n",
        "\n",
        "a) Por simulación\n",
        "\n",
        "b) Analíticamente\n",
        "\n",
        "\n",
        "**Solución**"
      ],
      "metadata": {
        "id": "cHr8imZu_wUh"
      }
    },
    {
      "cell_type": "markdown",
      "source": [
        "> # **a) Por simulación** \n",
        "> 1. **Identificación de las variables**\n",
        ">\n",
        "> $x$: Número de ventas de periódicos \n",
        ">\n",
        "> 2. **Se determina la distribución de probabilidad**\n",
        ">\n",
        ">|**PERIÓDICOS**|**30**|**40**|**50**|**60**|**70**|  \n",
        ">|----------|--|--|--|--|--|\n",
        ">|**f(x)**|20%|25%|25%|20%|10%|\n",
        ">\n",
        "> 3. **Distribución acumulada de probabilidad**\n",
        ">\n",
        ">|PERIÓDICOS|30|40|50|60|70|  \n",
        ">|----------|--|--|--|--|--|\n",
        ">|**f(x)**|20%|25%|25%|20%|10%|  \n",
        ">|**F(x)**|0.20|0.45|0.70|0.90|1.00|\n",
        ">\n",
        ">4. **Intervalo de números aleatorios correspondiente a cada valor**\n",
        ">\n",
        ">|PERIÓDICOS|30|40|50|60|70|  \n",
        ">|----------|--|--|--|--|--|\n",
        ">|**f(x)**|20%|25%|25%|20%|10%|  \n",
        ">|**F(x)**|0.20|0.45|0.70|0.90|1.00|  \n",
        ">|**INTERVALO**|0 a 0.19|0.2 a 0.44|0.45 a 0.69|0.7 a 0.89|0.9 a 1|"
      ],
      "metadata": {
        "id": "5A-JPE99DmOI"
      }
    },
    {
      "cell_type": "markdown",
      "source": [
        "> 5. **Modelo del sistema y Objetivos de la simulación**\n",
        ">\n",
        ">Se calcula el beneficio en un día, dado el número de periódicos solicitados.\n",
        ">\n",
        ">**Objetivo:** Mediante generación de números aleatorios para simular las ventas diarias en base a la tabla de frecuencias y tomando como entrada el número de periódicos solicitados por el quiosquero cada día, se obtendrá el beneficio promedio que el quiosquero ganaría por día, considerando también los costos asociados a las ventas perdidas y los periódicos no vendidos.\n",
        ">\n",
        ">Una forma de implementarlo es mediante el siguiente código."
      ],
      "metadata": {
        "id": "DfsKO68FdHDd"
      }
    },
    {
      "cell_type": "code",
      "source": [
        "#Librerías\n",
        "import numpy as np\n",
        "import random\n",
        "import matplotlib.pyplot as plt"
      ],
      "metadata": {
        "id": "KVH22VlVTfS1"
      },
      "execution_count": 60,
      "outputs": []
    },
    {
      "cell_type": "code",
      "source": [
        "#Función que genera números aleatorios para simular las ventas diarias en base de la tabla de frecuencias\n",
        "def ventas_sim():\n",
        "    ventas=0\n",
        "    u = random.random()\n",
        "    if 0.0 <= u < 0.20:\n",
        "        ventas = 30\n",
        "    elif 0.20 <= u < 0.45:\n",
        "        ventas = 40\n",
        "    elif 0.45 <= u < 0.70:\n",
        "        ventas = 50\n",
        "    elif 0.70 <= u < 0.90:\n",
        "        ventas = 60\n",
        "    elif 0.90 <= u <= 1.00:\n",
        "        ventas = 70\n",
        "    return ventas"
      ],
      "metadata": {
        "id": "La-TFSCETjRl"
      },
      "execution_count": 61,
      "outputs": []
    },
    {
      "cell_type": "code",
      "source": [
        "#Función que estima el beneficio por día dado el número de periódicos solicitados.\n",
        "def beneficio(pedido):\n",
        "    ben = 0\n",
        "    ventas_reales = 0\n",
        "    ventas_perdidas = 0\n",
        "    no_vendidos = 0\n",
        "    vs = ventas_sim()\n",
        "    \n",
        "    if vs > pedido: #condicional para evaluar el número de ventas perdidas\n",
        "        ventas_reales = pedido\n",
        "        ventas_perdidas = vs - pedido\n",
        "        no_vendidos = 0\n",
        "        \n",
        "    else: #condicional para evaluar el número de periódicos no vendidos\n",
        "        ventas_reales = vs\n",
        "        ventas_perdidas = 0\n",
        "        no_vendidos = pedido - ventas_reales\n",
        "    \n",
        "    #cálculo del beneficio en base a los costos\n",
        "    ben = 1.10*ventas_reales - 0.90*pedido - 0.10*no_vendidos - 0.20*ventas_perdidas \n",
        "    return ben"
      ],
      "metadata": {
        "id": "3kI_3Ph8XUbG"
      },
      "execution_count": 62,
      "outputs": []
    },
    {
      "cell_type": "markdown",
      "source": [
        ">Aplicando la simulación para un pedido de **$50$ periódicos**."
      ],
      "metadata": {
        "id": "4B1wVtCq4uIW"
      }
    },
    {
      "cell_type": "code",
      "source": [
        "print(\"El beneficio diario es: \",beneficio(50), \"euros\")"
      ],
      "metadata": {
        "colab": {
          "base_uri": "https://localhost:8080/"
        },
        "id": "m3mFr3q72jw_",
        "outputId": "c147fad0-cd72-4f05-8701-bc6f8a69e8ce"
      },
      "execution_count": 63,
      "outputs": [
        {
          "output_type": "stream",
          "name": "stdout",
          "text": [
            "El beneficio diario es:  -2.0 euros\n"
          ]
        }
      ]
    },
    {
      "cell_type": "markdown",
      "source": [
        "> 5. **Diseñe el experimento**\n",
        ">\n",
        ">Para estimar el beneficio promedio diario si se ordenan 50 periódicos cada día, se ejecutara $n$ veces las funciones anteriores y se calcularan de manera acumulativa el beneficio promedio."
      ],
      "metadata": {
        "id": "IQfT4dUYZjdJ"
      }
    },
    {
      "cell_type": "code",
      "source": [
        "num_dias = 1000\n",
        "pedido_diario = 50\n",
        "\n",
        "beneficios = [beneficio(pedido_diario) for i in range(num_dias)]\n",
        "beneficio_promedio = sum(beneficios) / num_dias\n",
        "\n",
        "print(f\"El beneficio promedio diario es: {beneficio_promedio:.2f} euros\")\n"
      ],
      "metadata": {
        "colab": {
          "base_uri": "https://localhost:8080/"
        },
        "id": "Dbu6vVrANh_v",
        "outputId": "e908f80b-7d39-4990-a3a1-a2a39c6fcb0d"
      },
      "execution_count": 64,
      "outputs": [
        {
          "output_type": "stream",
          "name": "stdout",
          "text": [
            "El beneficio promedio diario es: 1.42 euros\n"
          ]
        }
      ]
    },
    {
      "cell_type": "code",
      "source": [
        "def simulacion(n):\n",
        "    L=[]\n",
        "    benef = 0\n",
        "    for i in range(n):\n",
        "        benef += beneficio(50)\n",
        "        L.append(benef/(i+1))\n",
        "    return L"
      ],
      "metadata": {
        "id": "xVZ1bd2D8efr"
      },
      "execution_count": 65,
      "outputs": []
    },
    {
      "cell_type": "code",
      "source": [
        "X=simulacion(10000)"
      ],
      "metadata": {
        "id": "xmBkvFa_8lLh"
      },
      "execution_count": 66,
      "outputs": []
    },
    {
      "cell_type": "code",
      "source": [
        "plt.plot(X, 'y-',label='Beneficio promedio')\n",
        "plt.title('Gráfica de estabilidad')\n",
        "plt.legend()\n",
        "plt.xlabel('Número de iteraciones')\n",
        "plt.ylabel('Beneficio')"
      ],
      "metadata": {
        "colab": {
          "base_uri": "https://localhost:8080/",
          "height": 489
        },
        "id": "7vUMhU_qlxv2",
        "outputId": "8e7c6f02-b60a-4268-c39f-0a120784c9e8"
      },
      "execution_count": 67,
      "outputs": [
        {
          "output_type": "execute_result",
          "data": {
            "text/plain": [
              "Text(0, 0.5, 'Beneficio')"
            ]
          },
          "metadata": {},
          "execution_count": 67
        },
        {
          "output_type": "display_data",
          "data": {
            "text/plain": [
              "<Figure size 640x480 with 1 Axes>"
            ],
            "image/png": "[encoded data removed]"
          },
          "metadata": {}
        }
      ]
    },
    {
      "cell_type": "code",
      "source": [
        "np.mean(X)"
      ],
      "metadata": {
        "colab": {
          "base_uri": "https://localhost:8080/"
        },
        "id": "_axdKyiuCSmW",
        "outputId": "e4a14fa7-5b9b-44ea-8245-be5487caa65e"
      },
      "execution_count": 68,
      "outputs": [
        {
          "output_type": "execute_result",
          "data": {
            "text/plain": [
              "1.6108859257969679"
            ]
          },
          "metadata": {},
          "execution_count": 68
        }
      ]
    },
    {
      "cell_type": "markdown",
      "source": [
        "> 6. **Repita el experimento $n$ veces**\n",
        ">\n",
        ">Una forma de hacerlo es mediante el siguiente codigo."
      ],
      "metadata": {
        "id": "70DKsf4onJJX"
      }
    },
    {
      "cell_type": "code",
      "source": [
        "def modelo(n):\n",
        "    lista=[]\n",
        "    for i in range(n):\n",
        "        s = simulacion(500)\n",
        "        lista.append(np.mean(s))\n",
        "    return lista"
      ],
      "metadata": {
        "id": "C_76a7U3nG7B"
      },
      "execution_count": 69,
      "outputs": []
    },
    {
      "cell_type": "code",
      "source": [
        "Y=modelo(500)"
      ],
      "metadata": {
        "id": "RnH4oXEFC2UF"
      },
      "execution_count": 70,
      "outputs": []
    },
    {
      "cell_type": "code",
      "source": [
        "plt.hist(Y,label='Beneficio promedio')\n",
        "plt.title('Histograma')\n",
        "plt.legend()\n",
        "plt.ylabel('Número de iteraciones')\n",
        "plt.xlabel('Probabilidad')\n",
        "plt.show()"
      ],
      "metadata": {
        "colab": {
          "base_uri": "https://localhost:8080/",
          "height": 472
        },
        "id": "P8_ioEnhDAF3",
        "outputId": "4f52a5b2-670b-4d1e-d570-1993b9c61382"
      },
      "execution_count": 71,
      "outputs": [
        {
          "output_type": "display_data",
          "data": {
            "text/plain": [
              "<Figure size 640x480 with 1 Axes>"
            ],
            "image/png": "[encoded data removed]"
          },
          "metadata": {}
        }
      ]
    },
    {
      "cell_type": "code",
      "source": [
        "print(np.mean(Y), np.std(Y))"
      ],
      "metadata": {
        "colab": {
          "base_uri": "https://localhost:8080/"
        },
        "id": "8MS0wG-1neRP",
        "outputId": "d357bb20-d770-48a5-e537-3b8ea43add96"
      },
      "execution_count": 72,
      "outputs": [
        {
          "output_type": "stream",
          "name": "stdout",
          "text": [
            "1.4378063156603043 0.5454124000062197\n"
          ]
        }
      ]
    },
    {
      "cell_type": "markdown",
      "source": [
        ">7. **Hallamos el intervalo de confianza.**\n",
        ">\n",
        ">$$\\bar{x}-z_{\\alpha/2} \\cdot \\frac{s}{\\sqrt{n}} < \\mu < \\bar{x}+z_{\\alpha/2}\\cdot \\frac{s}{\\sqrt{n}}$$"
      ],
      "metadata": {
        "id": "H6pchNdEZvEo"
      }
    },
    {
      "cell_type": "code",
      "source": [
        "np.mean(Y) - 1.96*np.std(Y)/np.sqrt(50), np.mean(Y) + 1.96*np.std(Y)/np.sqrt(50)"
      ],
      "metadata": {
        "colab": {
          "base_uri": "https://localhost:8080/"
        },
        "id": "38jqIdhBZqXt",
        "outputId": "781a15cb-3203-49d7-df7f-e974dac46ada"
      },
      "execution_count": 73,
      "outputs": [
        {
          "output_type": "execute_result",
          "data": {
            "text/plain": [
              "(1.2866257114779542, 1.5889869198426543)"
            ]
          },
          "metadata": {},
          "execution_count": 73
        }
      ]
    },
    {
      "cell_type": "markdown",
      "source": [
        "> # **b) Analíticamente** \n",
        ">Se deben calcular los ingresos y costos asociados dependiendo de la demanda.\n",
        ">\n",
        "> **Ingresos** = Precio de venta * Cantidad de periódicos vendidos\n",
        ">\n",
        ">Donde el precio de venta es = 1.10 euros por periódico\n",
        ">\n",
        ">**Costos** = (Costo por periódico * Cantidad de periódicos vendidos) + (Costo por venta perdida * Cantidad de periódicos no vendidos) + (Costo por reciclaje * Cantidad de periódicos no vendidos)\n",
        ">\n",
        ">**Costo por periódico** es de 0.90 euros.\n",
        ">\n",
        ">**Costo por venta perdida** es de 0.20 euros.\n",
        ">\n",
        ">**Costo por reciclaje** es de 0.10 euros.\n",
        ">\n",
        ">Los beneficios estan dadod por:\n",
        ">\n",
        ">**Beneficio** = Ingresos - Costos\n",
        ">\n",
        ">**Beneficio ponderado** = Beneficio * Porcentaje de tiempo\n",
        ">\n",
        ">**Beneficio promedio diario:**\n",
        ">\n",
        ">1. **30 periódicos:**\n",
        ">\n",
        ">Ingresos = 1.10 * 30 = 33 euros\n",
        ">\n",
        ">Costos = (0.90 * 30) + (0.20 * 20) + (0.10 * 20) = 27 + 4 + 2 = 33 euros\n",
        ">\n",
        ">Beneficio = Ingresos - Costos = 33 - 33 = 0 euros\n",
        ">\n",
        ">Beneficio ponderado = 0 * 0.20 = 0 euros\n",
        ">\n",
        ">2. **40 periódicos:**\n",
        ">\n",
        ">Ingresos = 1.10 * 40 = 44 euros\n",
        ">\n",
        ">Costos = (0.90 * 40) + (0.20 * 10) + (0.10 * 10) = 36 + 2 + 1 = 39 euros\n",
        ">\n",
        ">Beneficio = Ingresos - Costos = 44 - 39 = 5 euros\n",
        ">\n",
        ">Beneficio ponderado = 5 * 0.25 = 1.25 euros\n",
        ">\n",
        ">3. **Para 50 periódicos:**\n",
        ">\n",
        ">Ingresos = 1.10 * 50 = 55 euros\n",
        ">\n",
        ">Costos = (0.90 * 50) + (0.20 * 0) + (0.10 * 0) = 45 + 0 + 0 = 45 euros\n",
        ">\n",
        ">Beneficio = Ingresos - Costos = 55 - 45 = 10 euros\n",
        ">\n",
        ">Beneficio ponderado = 10 * 0.25 = 2.5 euros\n",
        ">\n",
        ">4. **Para 60 periódicos:**\n",
        ">\n",
        ">Ingresos = 1.10 * 60 = 66 euros\n",
        ">\n",
        ">Costos = (0.90 * 60) + (0.20 * 0) + (0.10 * 0) = 54 + 0 + 0 = 54 euros\n",
        ">\n",
        ">Beneficio = Ingresos - Costos = 66 - 54 = 12 euros\n",
        ">\n",
        ">Beneficio ponderado = 12 * 0.20 = 2.4 euros\n",
        ">\n",
        ">5. **Para 70 periódicos:**\n",
        ">\n",
        ">Ingresos = 1.10 * 70 = 77 euros\n",
        ">\n",
        ">Costos = (0.90 * 70) + (0.20 * 0) + (0.10 * 0) = 63 + 0 + 0 = 63 euros\n",
        ">\n",
        ">Beneficio = Ingresos - Costos = 77 - 63 = 14 euros\n",
        ">\n",
        ">Beneficio ponderado = 14 * 0.10 = 1.4 euros\n",
        ">\n",
        ">Luego, el **Beneficio promedio diario** = Suma de beneficios ponderados/5 = 1.51 euros\n",
        ">\n",
        ">Por lo tanto, el beneficio promedio diario para el quiosquero si pide 50 periódicos cada día es de 1.51 euros."
      ],
      "metadata": {
        "id": "nyzAybQFxxzV"
      }
    }
  ]
}