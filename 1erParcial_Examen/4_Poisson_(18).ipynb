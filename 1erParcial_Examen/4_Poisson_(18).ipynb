{
  "cells": [
    {
      "cell_type": "markdown",
      "metadata": {
        "id": "view-in-github",
        "colab_type": "text"
      },
      "source": [
        "<a href=\"https://colab.research.google.com/github/SoleromYess/Simulaci-n-II/blob/main/1erParcial_Examen/4_Poisson_(18).ipynb\" target=\"_parent\"><img src=\"https://colab.research.google.com/assets/colab-badge.svg\" alt=\"Open In Colab\"/></a>"
      ]
    },
    {
      "cell_type": "markdown",
      "id": "a5cc0a87",
      "metadata": {
        "id": "a5cc0a87"
      },
      "source": [
        "Yessica Morelos Moreno\n",
        "# **Distribución de Poisson**\n",
        "\n",
        "Sean cuatro variables aleatorias independientes $\\xi_i$, todas con distribución de Poisson con media igual 1/2. Determínese $P(τ\\leq 1)$ siendo\n",
        "\n",
        "$$\\tau = \\frac{\\xi_1 + \\xi_2 + \\xi_3 + \\xi_4}{4}$$"
      ]
    },
    {
      "cell_type": "markdown",
      "id": "0e218d98",
      "metadata": {
        "id": "0e218d98"
      },
      "source": [
        "1.**Identifique las variables**\n",
        ">Sea $\\lambda = 12~~~$ y $~~~\\xi_i \\in \\tau$ son variables independientes donde $i= 1, 2, 3, 4$\n",
        ">\n",
        "2.**Determine la distribución de probabilidad**\n",
        ">Una variable aleatoria discreta $\\tau$ se dice que tiene una distribución de Poisson, con parámetro $ \\lambda > 0$.\n",
        ">\n",
        ">$\\tau \\sim Poi (\\lambda)$\n",
        ">\n",
        "3.**Modele las variables aleatorias** \n",
        ">\n",
        ">$$\\tau  \\sim Poi (\\frac{1}{2})$$\n",
        ">"
      ]
    },
    {
      "cell_type": "markdown",
      "id": "33709223",
      "metadata": {
        "id": "33709223"
      },
      "source": [
        "4.**Defina el modelo del sistema y los objetivos de la simulación**\n",
        ">Se realiza la simulación y se generaran cuatro variables aleatorias de Poisson con media 1/2 en cada simulación.\n",
        ">\n",
        ">**Objetivo:**\n",
        ">\n",
        ">Se calcula el valor de $\\tau$ para cada simulación y se estima la probabilidad de que $\\tau$ sea menor o igual a 1 tomando el promedio de los valores de tau que cumplen esta condición."
      ]
    },
    {
      "cell_type": "code",
      "source": [
        "from math import exp, factorial\n",
        "import numpy as np\n",
        "\n",
        "#Función que devuelve la función de masa de probabilidad de una distribución de Poisson.\n",
        "#a es la variable aleatoria\n",
        "#L recibe el valor de lambda\n",
        "def poisson_masa(a, L):\n",
        "    return exp(-L) * (L**a) / factorial(a) #Función de masa Poisson\n",
        "\n",
        "\n",
        "#Función que calcula la probabilidad de que τ sea menor o igual a 1.\n",
        "def prob_menor_1():\n",
        "    lmbda = 1/2\n",
        "    tau = sum(np.random.poisson(lmbda, size=4)) / 4 #Valor de Tau\n",
        "    prob = poisson_masa(0, 2) + poisson_masa(1, 2)\n",
        "    return prob"
      ],
      "metadata": {
        "id": "BYDE6Y7Xxz_z"
      },
      "id": "BYDE6Y7Xxz_z",
      "execution_count": 15,
      "outputs": []
    },
    {
      "cell_type": "markdown",
      "source": [
        "El valor de $$P(\\tau\\leq1)=$$"
      ],
      "metadata": {
        "id": "wVIn_nn320zu"
      },
      "id": "wVIn_nn320zu"
    },
    {
      "cell_type": "code",
      "source": [
        "prob_menor_1()"
      ],
      "metadata": {
        "colab": {
          "base_uri": "https://localhost:8080/"
        },
        "id": "p6D9JRWp1iyp",
        "outputId": "1d82a520-72e1-4ac5-ff3d-35f877a6cee5"
      },
      "id": "p6D9JRWp1iyp",
      "execution_count": 21,
      "outputs": [
        {
          "output_type": "execute_result",
          "data": {
            "text/plain": [
              "0.4060058497098381"
            ]
          },
          "metadata": {},
          "execution_count": 21
        }
      ]
    },
    {
      "cell_type": "markdown",
      "source": [
        "**Repitiendo el experimento n veces**"
      ],
      "metadata": {
        "id": "25ZHmVzB56E7"
      },
      "id": "25ZHmVzB56E7"
    },
    {
      "cell_type": "code",
      "source": [
        "def modelo(n):\n",
        "    lista=[]\n",
        "    for i in range(n):\n",
        "        s = prob_menor_1()\n",
        "        lista.append(np.mean(s))\n",
        "    return lista"
      ],
      "metadata": {
        "id": "m1z0ieG-6BQT"
      },
      "id": "m1z0ieG-6BQT",
      "execution_count": 25,
      "outputs": []
    },
    {
      "cell_type": "code",
      "source": [
        "Y=modelo(40)\n",
        "Y"
      ],
      "metadata": {
        "id": "W471i5eX6YRU"
      },
      "id": "W471i5eX6YRU",
      "execution_count": null,
      "outputs": []
    },
    {
      "cell_type": "markdown",
      "source": [
        "## Versión analítica\n",
        "\n",
        "Usando la propiedad de que la $μ$  de variables aleatorias de Poisson es también una variable aleatoria de Poisson con media igual a la  $μ$ de las variables originales.\n",
        "\n",
        "En este caso, cada $\\xi_i$ tiene una distribución de Poisson con media $1/2$, por lo que su media es también $1/2$. Por lo tanto, $\\tau$ es una variable aleatoria de Poisson con media (1/2) * 4 = 2.\n",
        "\n",
        "La probabilidad de que $\\tau$ sea menor o igual a 1 se puede calcular sumando las probabilidades de que τ tome los valores 0 y 1. La función de masa de probabilidad de una distribución de Poisson con media 2 es:\n",
        "\n",
        "$$P(τ = k) = \\frac{e^(-2) * 2^k }{ k!}$$\n",
        "\n",
        "Por lo tanto, la probabilidad de que τ sea igual a 0 es:\n",
        "\n",
        "$P(τ = 0) = \\frac{e^(-2) * 2^0 }{ 0!} = e^{-2}$\n",
        "\n",
        "Y la probabilidad de que τ sea igual a 1 es:\n",
        "\n",
        "$P(τ = 1) = \\frac{e^(-2) * 2^1} { 1!} = 2 * e^{-2}$\n",
        "\n",
        "La probabilidad de que τ sea menor o igual a 1 es:\n",
        "\n",
        "$P(τ ≤ 1) = P(τ = 0) + P(τ = 1) = e^{-2} + 2 * e^{-2} = \\frac{3}{e^2}$\n",
        "\n",
        "Por lo tanto, la probabilidad de que τ sea menor o igual a 1 es $\\frac{3}{e^2}$."
      ],
      "metadata": {
        "id": "7S2R-MZG4HA7"
      },
      "id": "7S2R-MZG4HA7"
    }
  ],
  "metadata": {
    "kernelspec": {
      "display_name": "Python 3 (ipykernel)",
      "language": "python",
      "name": "python3"
    },
    "language_info": {
      "codemirror_mode": {
        "name": "ipython",
        "version": 3
      },
      "file_extension": ".py",
      "mimetype": "text/x-python",
      "name": "python",
      "nbconvert_exporter": "python",
      "pygments_lexer": "ipython3",
      "version": "3.7.3"
    },
    "colab": {
      "provenance": [],
      "include_colab_link": true
    }
  },
  "nbformat": 4,
  "nbformat_minor": 5
}