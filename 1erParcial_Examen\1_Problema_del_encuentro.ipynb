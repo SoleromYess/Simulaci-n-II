{
  "nbformat": 4,
  "nbformat_minor": 0,
  "metadata": {
    "colab": {
      "provenance": [],
      "authorship_tag": "ABX9TyMTdcega4HSCF7XjM2Xx44k",
      "include_colab_link": true
    },
    "kernelspec": {
      "name": "python3",
      "display_name": "Python 3"
    },
    "language_info": {
      "name": "python"
    }
  },
  "cells": [
    {
      "cell_type": "markdown",
      "metadata": {
        "id": "view-in-github",
        "colab_type": "text"
      },
      "source": [
        "<a href=\"https://colab.research.google.com/github/SoleromYess/Simulaci-n-II/blob/main/1erParcial_Examen%5C1_Problema_del_encuentro.ipynb\" target=\"_parent\"><img src=\"https://colab.research.google.com/assets/colab-badge.svg\" alt=\"Open In Colab\"/></a>"
      ]
    },
    {
      "cell_type": "markdown",
      "source": [
        "Yessica Morelos Moreno\n",
        "#**Problema del encuentro**"
      ],
      "metadata": {
        "id": "adO1NVrnv9k4"
      }
    },
    {
      "cell_type": "markdown",
      "source": [
        "Dos personas han quedado citas en un determinado lugar. Ambas tienen la misma probabilidad de llegar al lugar de la cita en el intervalo de tiempo [0, 30]. Determínese la probabilidad de que el tiempo que una persona espere a la otra sea como máximo 10.\n",
        "\n",
        "a) Por simulación\n",
        "\n",
        "b) Analíticamente\n",
        "\n",
        "\n",
        "**Solución**"
      ],
      "metadata": {
        "id": "cHr8imZu_wUh"
      }
    },
    {
      "cell_type": "markdown",
      "source": [
        "> # **a) Por simulación** \n",
        "> 1. **Definición de variables**\n",
        ">\n",
        "> $x$: tiempo de llegada de la primera persona. \n",
        ">\n",
        "> $y$: tiempo de llegada de la segunda persona.\n",
        ">\n",
        "> 2. **Se determina la distribución de probabilidad**\n",
        ">\n",
        "> Variables aleatorias uniformes\n",
        ">\n",
        "> $x \\sim U$ y $y \\sim U$\n",
        ">\n",
        "> 3. **Modelación las variables aleatorias**\n",
        ">\n",
        "> $x \\sim U[0, 30]$ y $y \\sim U[0, 30]$\n",
        ">\n",
        "> 4. **Modelo del sistema y Objetivos de la simulación**\n",
        ">\n",
        ">La diferencia  $ |x−y| $  modela adecuadamente el sistema.\n",
        ">\n",
        ">Si  $ |x−y| \\leq 10$  el tiempo de espera entre la llegada de ambas personas será menor o igual a 10 minutos.\n",
        ">\n",
        ">**Objetivo:** determinar la frecuencia con que esto ocurre, lo cual nos dará una estimación de la probabilidad del tiempo de espera.\n",
        ">\n",
        ">Por lo que, la simulación queda expresada con el siguiente código."
      ],
      "metadata": {
        "id": "5A-JPE99DmOI"
      }
    },
    {
      "cell_type": "code",
      "source": [
        "#Librerías\n",
        "import random \n",
        "import matplotlib.pyplot as plt\n",
        "import numpy as np"
      ],
      "metadata": {
        "id": "KVH22VlVTfS1"
      },
      "execution_count": 1,
      "outputs": []
    },
    {
      "cell_type": "code",
      "source": [
        "# Función que simula una cita y retorna el tiempo de espera.\n",
        "def cita():\n",
        "    # Simular tiempos de llegada de las dos personas\n",
        "    x_1 = random.uniform(0, 30) #Los numéros aleatorios serán de tipo flotante en un rango de 0 a 30\n",
        "    x_2 = random.uniform(0, 30)\n",
        "    # Calcular el tiempo de espera\n",
        "    tiempo_espera = abs(x_1-x_2)\n",
        "    # Devuelve el tiempo de espera\n",
        "    return x_1, x_2, tiempo_espera"
      ],
      "metadata": {
        "id": "La-TFSCETjRl"
      },
      "execution_count": 2,
      "outputs": []
    },
    {
      "cell_type": "code",
      "source": [
        "print(\"Tiempo de llegada 1: %.1f minutos \\nTiempo de llegada 2: %.1f minutos \\n\\nTiempo de espera: %.1f minutos\" %cita())"
      ],
      "metadata": {
        "colab": {
          "base_uri": "https://localhost:8080/"
        },
        "id": "3kI_3Ph8XUbG",
        "outputId": "bb9bf5db-4529-4bba-b85d-04b711dd4eff"
      },
      "execution_count": 3,
      "outputs": [
        {
          "output_type": "stream",
          "name": "stdout",
          "text": [
            "Tiempo de llegada 1: 4.5 minutos \n",
            "Tiempo de llegada 2: 5.3 minutos \n",
            "\n",
            "Tiempo de espera: 0.8 minutos\n"
          ]
        }
      ]
    },
    {
      "cell_type": "markdown",
      "source": [
        "> 5. **Diseñe el experimento**\n",
        ">\n",
        ">Para estimar la probabilidad del tiempo de espera entre $[0,10]$, ejecutamos $n$ veces la función anterior y calculamos de manera acumulativa la probabilidad de tiempo de espera."
      ],
      "metadata": {
        "id": "IQfT4dUYZjdJ"
      }
    },
    {
      "cell_type": "code",
      "source": [
        "def prob_inter(n):\n",
        "    Espera_10 = []\n",
        "    Espera = []                    \n",
        "    prob = []                       # Esta funcion devuelve esta lista \"prob\", con los valores de la probabilidad\n",
        "    inter = 0                       # estimada al contar las veces que hay Espera_10 y dividide entre las veces que \n",
        "    for i in range(n):              # se ha reptido la observacion mientras aumenta el numero de iteraciones.\n",
        "        tiempos = cita()\n",
        "        Espera.append(tiempos[2])\n",
        "        if tiempos[2] <= 10:\n",
        "          Espera_10.append(tiempos[2]) \n",
        "        prob.append(len(Espera_10)/(i+1))\n",
        "    return prob"
      ],
      "metadata": {
        "id": "VGrdB0GMjixi"
      },
      "execution_count": 4,
      "outputs": []
    },
    {
      "cell_type": "code",
      "source": [
        "X = prob_inter(10000)"
      ],
      "metadata": {
        "id": "1a4RTQF1k2pP"
      },
      "execution_count": 5,
      "outputs": []
    },
    {
      "cell_type": "code",
      "source": [
        "plt.plot(X , 'g-',label='Probabilidad/número de iteraciones')\n",
        "plt.title('Gráfica de estabilidad')\n",
        "plt.legend()\n",
        "plt.xlabel('Número de iteraciones')\n",
        "plt.ylabel('Probabilidad')"
      ],
      "metadata": {
        "colab": {
          "base_uri": "https://localhost:8080/",
          "height": 489
        },
        "id": "7vUMhU_qlxv2",
        "outputId": "e82cc049-3e92-4e65-c284-ce790ebd399e"
      },
      "execution_count": 6,
      "outputs": [
        {
          "output_type": "execute_result",
          "data": {
            "text/plain": [
              "Text(0, 0.5, 'Probabilidad')"
            ]
          },
          "metadata": {},
          "execution_count": 6
        },
        {
          "output_type": "display_data",
          "data": {
            "text/plain": [
              "<Figure size 640x480 with 1 Axes>"
            ],
            "image/png": "[encoded data removed]"
          },
          "metadata": {}
        }
      ]
    },
    {
      "cell_type": "code",
      "source": [
        "print(np.mean(X), np.std(X))"
      ],
      "metadata": {
        "colab": {
          "base_uri": "https://localhost:8080/"
        },
        "id": "UfMvb5SaLM2v",
        "outputId": "f3f4ec80-81d7-4a5c-8049-e8e92e5d1f21"
      },
      "execution_count": 9,
      "outputs": [
        {
          "output_type": "stream",
          "name": "stdout",
          "text": [
            "0.5506935776647657 0.016531896396196507\n"
          ]
        }
      ]
    },
    {
      "cell_type": "markdown",
      "source": [
        "> 6. **Repita el experimento $n$ veces**\n",
        ">\n",
        ">Una forma de hacerlo es mediante el siguiente codigo."
      ],
      "metadata": {
        "id": "70DKsf4onJJX"
      }
    },
    {
      "cell_type": "code",
      "source": [
        "def modelo(n):\n",
        "    lista=[]\n",
        "    for i in range(n):\n",
        "        s = prob_inter(500)\n",
        "        lista.append(np.mean(s))\n",
        "    return lista"
      ],
      "metadata": {
        "id": "C_76a7U3nG7B"
      },
      "execution_count": 7,
      "outputs": []
    },
    {
      "cell_type": "markdown",
      "source": [
        "La probabilidad de que el tiempo de espera de llegada entre ambas personas sea $\\leq10$ es de:"
      ],
      "metadata": {
        "id": "eE1wBy3ewpSj"
      }
    },
    {
      "cell_type": "code",
      "source": [
        "Y = np.mean(modelo(100))\n",
        "print(Y)"
      ],
      "metadata": {
        "colab": {
          "base_uri": "https://localhost:8080/"
        },
        "id": "8MS0wG-1neRP",
        "outputId": "33951c66-db70-43df-83a6-8db3ea3fd75c"
      },
      "execution_count": 26,
      "outputs": [
        {
          "output_type": "stream",
          "name": "stdout",
          "text": [
            "0.5577245447045861\n"
          ]
        }
      ]
    },
    {
      "cell_type": "code",
      "source": [
        "plt.hist(Y)\n",
        "plt.title('histograma')\n",
        "plt.legend()\n",
        "plt.show()"
      ],
      "metadata": {
        "colab": {
          "base_uri": "https://localhost:8080/",
          "height": 489
        },
        "id": "yFp2CiTlLWIw",
        "outputId": "2436c8ef-78f5-4ace-b3f5-6a99498f771e"
      },
      "execution_count": 19,
      "outputs": [
        {
          "output_type": "stream",
          "name": "stderr",
          "text": [
            "WARNING:matplotlib.legend:No artists with labels found to put in legend.  Note that artists whose label start with an underscore are ignored when legend() is called with no argument.\n"
          ]
        },
        {
          "output_type": "display_data",
          "data": {
            "text/plain": [
              "<Figure size 640x480 with 1 Axes>"
            ],
            "image/png": "[encoded data removed]"
          },
          "metadata": {}
        }
      ]
    },
    {
      "cell_type": "code",
      "source": [
        "print(\"media = \", np.mean(Y), \"desv estándar = \", np.std(Y))"
      ],
      "metadata": {
        "colab": {
          "base_uri": "https://localhost:8080/"
        },
        "id": "yuOrDqS-NgFx",
        "outputId": "84653de4-e100-462e-fc7a-3aca150179ce"
      },
      "execution_count": 23,
      "outputs": [
        {
          "output_type": "stream",
          "name": "stdout",
          "text": [
            "media =  0.5557961533738611 desv estándar =  0.0\n"
          ]
        }
      ]
    },
    {
      "cell_type": "markdown",
      "source": [
        ">7. **Hallamos el intervalo de confianza.**\n",
        ">\n",
        ">$$\\bar{x}-z_{\\alpha/2} \\cdot \\frac{s}{\\sqrt{n}} < \\mu < \\bar{x}+z_{\\alpha/2}\\cdot \\frac{s}{\\sqrt{n}}$$\n",
        ">\n",
        ">*con un 95% de confianza"
      ],
      "metadata": {
        "id": "g_sG5C4bN4b7"
      }
    },
    {
      "cell_type": "code",
      "source": [
        "np.mean(Y) - 1.96*np.std(Y)/np.sqrt(1000), np.mean(Y) + 1.96*np.std(Y)/np.sqrt(1000)"
      ],
      "metadata": {
        "colab": {
          "base_uri": "https://localhost:8080/"
        },
        "id": "MrP7Nq4VN337",
        "outputId": "57cd6be4-7f95-481b-fc5e-8bc0f42d4053"
      },
      "execution_count": 28,
      "outputs": [
        {
          "output_type": "execute_result",
          "data": {
            "text/plain": [
              "(0.5577245447045861, 0.5577245447045861)"
            ]
          },
          "metadata": {},
          "execution_count": 28
        }
      ]
    },
    {
      "cell_type": "markdown",
      "source": [
        "> # **b) Analíticamente** \n",
        ">Para determinar la probabilidad de que la primera persona espere como máximo 10 minutos, podemos considerar el conjunto de puntos en el plano $(x, y)$ donde $x$ es el tiempo de llegada de la primera persona y $y$ es el tiempo de llegada de la segunda persona.\n",
        "> \n",
        ">Este conjunto de puntos se puede definir como $$S = \\{(x, y) \\in [0,30] \\times [0,30] : |x - y| \\leq 10\\}$$ que corresponde a todos los pares de tiempos de llegada que cumplen con la condición de que la primera persona espera como máximo 10 minutos.\n",
        ">\n",
        ">Graficando la desigualdad:"
      ],
      "metadata": {
        "id": "nyzAybQFxxzV"
      }
    },
    {
      "cell_type": "code",
      "source": [
        "# Definimos la función de la desigualdad\n",
        "def inequality(x, y):\n",
        "    return np.abs(x - y) <= 10\n",
        "\n",
        "# Creamos valores para x y y\n",
        "x = np.linspace(0, 30, 1000)\n",
        "y = np.linspace(0, 30, 1000)\n",
        "X, Y = np.meshgrid(x, y)\n",
        "Z = inequality(X, Y)\n",
        "plt.contour(X, Y, Z, levels=[0, 1], colors=['red', 'blue'])\n",
        "plt.xlabel('Tiempo de llegada persona 1')\n",
        "plt.ylabel('Tiempo de llegada persona 2')\n",
        "plt.title('$|x-y| \\leq 10$')\n",
        "\n",
        "plt.show()"
      ],
      "metadata": {
        "colab": {
          "base_uri": "https://localhost:8080/",
          "height": 474
        },
        "id": "wQ-XC45Q-QwB",
        "outputId": "24f6634c-f653-47ca-bfb0-4e852f45ef4c"
      },
      "execution_count": 29,
      "outputs": [
        {
          "output_type": "display_data",
          "data": {
            "text/plain": [
              "<Figure size 640x480 with 1 Axes>"
            ],
            "image/png": "[encoded data removed]"
          },
          "metadata": {}
        }
      ]
    },
    {
      "cell_type": "markdown",
      "source": [
        ">En el gráfico podemos observar que la región entre las rectas rojas es el área favorable para la desigualdad $|x-y|\\leq 10$.\n",
        ">\n",
        ">Observamos que podemos calcular el área de los dos triángulos en las esquinas del gráfico.\n",
        ">\n",
        ">Dado que son de las mismas medidas:\n",
        ">$$área~de~triángulo~=~\\frac{b * h}{2} = \\frac{(30-10)*(30-10)}{2} = 200$$\n",
        ">\n",
        ">$$Área~total~=~30^2~=~900$$\n",
        ">\n",
        ">Luego, la probabilidad queda dada por:\n",
        ">\n",
        ">$$P~=~\\frac{900-2(200)}{900}~=~\\frac{500}{900}~≈~0.5556$$\n"
      ],
      "metadata": {
        "id": "xtBXOj_fAu_z"
      }
    }
  ]
}