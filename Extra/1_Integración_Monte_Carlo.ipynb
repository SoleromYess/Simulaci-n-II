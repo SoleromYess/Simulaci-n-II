{
  "nbformat": 4,
  "nbformat_minor": 0,
  "metadata": {
    "colab": {
      "provenance": [],
      "authorship_tag": "ABX9TyMDKyNdNR55aUSyI4WiIJKF",
      "include_colab_link": true
    },
    "kernelspec": {
      "name": "python3",
      "display_name": "Python 3"
    },
    "language_info": {
      "name": "python"
    }
  },
  "cells": [
    {
      "cell_type": "markdown",
      "metadata": {
        "id": "view-in-github",
        "colab_type": "text"
      },
      "source": [
        "<a href=\"https://colab.research.google.com/github/SoleromYess/Simulaci-n-II/blob/main/Extra/1_Integraci%C3%B3n_Monte_Carlo.ipynb\" target=\"_parent\"><img src=\"https://colab.research.google.com/assets/colab-badge.svg\" alt=\"Open In Colab\"/></a>"
      ]
    },
    {
      "cell_type": "markdown",
      "source": [
        "##**a) Aproxime el valor de $∫_0^1{\\frac{e^{x}-1}{e-1}}$ usando el método de Monte Carlo de la Media muestral.**"
      ],
      "metadata": {
        "id": "5rOsMXS5YyMI"
      }
    },
    {
      "cell_type": "markdown",
      "source": [
        "###**Método de Monte Carlo de la Media muestral**\n",
        ">Para $θ = ∫_0^1 g(x)dx ⋯ (1)$\n",
        "Observamos que si $U~(0,1)$, podemos expresar $(1)$ como:\n",
        "$$θ = E[g(1)]$$\n",
        "Asi, si $u_1, …, u_k ~ U(0,1),g(u_1), …, g(u_k)$ son variales aleatorias independientes e identicamente distribuidas con media $θ$.\n",
        "Por la ley de los grandes números:\n",
        "$$ \\frac{∑_{i=1}^k g(u_i)}{k} ⇒ E[g(1)] = θ$$\n",
        "\n",
        "\n"
      ],
      "metadata": {
        "id": "dOYhbpb1F9Tb"
      }
    },
    {
      "cell_type": "markdown",
      "source": [
        "###**Analíticamente**"
      ],
      "metadata": {
        "id": "V--9yn3DF84m"
      }
    },
    {
      "cell_type": "markdown",
      "source": [
        "* **Definir la función objetivo:**\n",
        "\n",
        "    En este caso, la función objetivo es:\n",
        "  $$g(x)=\\frac{e^{x}-1}{e-1}$$\n",
        "\n",
        "* **Generar muestras aleatorias:**\n",
        "\n",
        "    Generaremos valores aleatorios de $x$ en el intervalo $[0, 1]$. Cada valor de $x$ generado será una muestra.\n",
        "\n",
        "    Usaremos un ***Generador congruencial***, mismo que se realiza con el siguiente algorítimo.\n",
        "    1. Se elige aleatoriamente una semilla $x_0$.\n",
        "    2. $x_{i+1} = ((a⋅x_i) + b)mod(m)$\n",
        "    3. $u_i = \\frac{x_{i+1}}{m}$\n",
        "\n",
        "    Se tomarán los valores iniciales:\n",
        "\n",
        "    $$x_0 = 7 , a = 13 , b = 9 , m = 128$$\n",
        "\n",
        "    Primeros pasos del algorítmo:\n",
        "\n",
        "    $$x_{0+1} = x_1 = ((13⋅7) + 9)mod(128) = 100$$\n",
        "    $$u_0 = \\frac{100}{128} = 0.78125 $$\n",
        "\n",
        "    $$x_{1+1} = x_2 = ((13⋅100) + 9)mod(128) = 29$$\n",
        "    $$u_1 = \\frac{29}{128} = 0.2265625$$\n",
        "    \n",
        "    $$x_{2+1} = x_3 = ((13⋅29) + 9)mod(128) = 2 $$\n",
        "    $$u_1 = \\frac{2}{128} = 0.015625$$\n",
        "\n",
        "    Generando y comprobando con un algoritmo en python:\n",
        "\n",
        "\n"
      ],
      "metadata": {
        "id": "Jr1CNO9Gdmln"
      }
    },
    {
      "cell_type": "code",
      "source": [
        "x0 = 7\n",
        "a = 13\n",
        "b = 9\n",
        "m = 128\n",
        "iteraciones = 125\n",
        "U = [] #Array vacio para almacenar los números aleatorios del generador congruencial\n",
        "\n",
        "for i in range(0,iteraciones):\n",
        "  xi = ((a*x0) + b)%m\n",
        "  u=xi/m\n",
        "  U.append(u) #agregamos los valores Ui al array\n",
        "  print(i+1,U[i])\n",
        "  x0=xi"
      ],
      "metadata": {
        "colab": {
          "base_uri": "https://localhost:8080/"
        },
        "id": "2EJlWvcddmBu",
        "outputId": "f68ddaab-6b1e-4bce-fc4e-feeaa2dd3e3b"
      },
      "execution_count": 168,
      "outputs": [
        {
          "output_type": "stream",
          "name": "stdout",
          "text": [
            "1 0.78125\n",
            "2 0.2265625\n",
            "3 0.015625\n",
            "4 0.2734375\n",
            "5 0.625\n",
            "6 0.1953125\n",
            "7 0.609375\n",
            "8 0.9921875\n",
            "9 0.96875\n",
            "10 0.6640625\n",
            "11 0.703125\n",
            "12 0.2109375\n",
            "13 0.8125\n",
            "14 0.6328125\n",
            "15 0.296875\n",
            "16 0.9296875\n",
            "17 0.15625\n",
            "18 0.1015625\n",
            "19 0.390625\n",
            "20 0.1484375\n",
            "21 0.0\n",
            "22 0.0703125\n",
            "23 0.984375\n",
            "24 0.8671875\n",
            "25 0.34375\n",
            "26 0.5390625\n",
            "27 0.078125\n",
            "28 0.0859375\n",
            "29 0.1875\n",
            "30 0.5078125\n",
            "31 0.671875\n",
            "32 0.8046875\n",
            "33 0.53125\n",
            "34 0.9765625\n",
            "35 0.765625\n",
            "36 0.0234375\n",
            "37 0.375\n",
            "38 0.9453125\n",
            "39 0.359375\n",
            "40 0.7421875\n",
            "41 0.71875\n",
            "42 0.4140625\n",
            "43 0.453125\n",
            "44 0.9609375\n",
            "45 0.5625\n",
            "46 0.3828125\n",
            "47 0.046875\n",
            "48 0.6796875\n",
            "49 0.90625\n",
            "50 0.8515625\n",
            "51 0.140625\n",
            "52 0.8984375\n",
            "53 0.75\n",
            "54 0.8203125\n",
            "55 0.734375\n",
            "56 0.6171875\n",
            "57 0.09375\n",
            "58 0.2890625\n",
            "59 0.828125\n",
            "60 0.8359375\n",
            "61 0.9375\n",
            "62 0.2578125\n",
            "63 0.421875\n",
            "64 0.5546875\n",
            "65 0.28125\n",
            "66 0.7265625\n",
            "67 0.515625\n",
            "68 0.7734375\n",
            "69 0.125\n",
            "70 0.6953125\n",
            "71 0.109375\n",
            "72 0.4921875\n",
            "73 0.46875\n",
            "74 0.1640625\n",
            "75 0.203125\n",
            "76 0.7109375\n",
            "77 0.3125\n",
            "78 0.1328125\n",
            "79 0.796875\n",
            "80 0.4296875\n",
            "81 0.65625\n",
            "82 0.6015625\n",
            "83 0.890625\n",
            "84 0.6484375\n",
            "85 0.5\n",
            "86 0.5703125\n",
            "87 0.484375\n",
            "88 0.3671875\n",
            "89 0.84375\n",
            "90 0.0390625\n",
            "91 0.578125\n",
            "92 0.5859375\n",
            "93 0.6875\n",
            "94 0.0078125\n",
            "95 0.171875\n",
            "96 0.3046875\n",
            "97 0.03125\n",
            "98 0.4765625\n",
            "99 0.265625\n",
            "100 0.5234375\n",
            "101 0.875\n",
            "102 0.4453125\n",
            "103 0.859375\n",
            "104 0.2421875\n",
            "105 0.21875\n",
            "106 0.9140625\n",
            "107 0.953125\n",
            "108 0.4609375\n",
            "109 0.0625\n",
            "110 0.8828125\n",
            "111 0.546875\n",
            "112 0.1796875\n",
            "113 0.40625\n",
            "114 0.3515625\n",
            "115 0.640625\n",
            "116 0.3984375\n",
            "117 0.25\n",
            "118 0.3203125\n",
            "119 0.234375\n",
            "120 0.1171875\n",
            "121 0.59375\n",
            "122 0.7890625\n",
            "123 0.328125\n",
            "124 0.3359375\n",
            "125 0.4375\n"
          ]
        }
      ]
    },
    {
      "cell_type": "code",
      "source": [
        "386%128"
      ],
      "metadata": {
        "colab": {
          "base_uri": "https://localhost:8080/"
        },
        "id": "BG4-DYMatwzO",
        "outputId": "7662aeb1-5016-43c7-f9ec-e22e2a5c5b31"
      },
      "execution_count": 169,
      "outputs": [
        {
          "output_type": "execute_result",
          "data": {
            "text/plain": [
              "2"
            ]
          },
          "metadata": {},
          "execution_count": 169
        }
      ]
    },
    {
      "cell_type": "markdown",
      "source": [
        "* **Evaluar la función objetivo en cada muestra:**\n",
        "    \n",
        "  Para cada muestra generada, evaluaremos la función $g(x)$ en ese valor de $x$."
      ],
      "metadata": {
        "id": "gz4weNFUm2fW"
      }
    },
    {
      "cell_type": "code",
      "source": [
        "import math #librería para usar los exponenciales\n",
        "\n",
        "#Definimos la función g(x) para evaluar los valores aleatorios\n",
        "def g(x):\n",
        "    return (math.exp(x) - 1) / (math.e - 1)\n",
        "\n",
        "G = [] #Array donde alojaremos los valores de la función g(x)\n",
        "\n",
        "for i in range(0,iteraciones):\n",
        "  G.append(g(U[i])) #Mandar los datos de U a la función g(x)\n",
        "  print(i+1,G[i]) #Imprimir los valores\n"
      ],
      "metadata": {
        "colab": {
          "base_uri": "https://localhost:8080/"
        },
        "id": "CYA6BPWpnget",
        "outputId": "fd9bfaea-5cf0-4b62-a0b5-28c1a8965fd9"
      },
      "execution_count": 170,
      "outputs": [
        {
          "output_type": "stream",
          "name": "stdout",
          "text": [
            "1 0.6891772881504596\n",
            "2 0.1479856189684104\n",
            "3 0.009164799584017174\n",
            "4 0.18301724241975512\n",
            "5 0.5052989230590101\n",
            "6 0.12552703924825817\n",
            "7 0.4884422768379319\n",
            "8 0.9876889595962862\n",
            "9 0.9513276935958663\n",
            "10 0.5486110602496018\n",
            "11 0.5936485568397601\n",
            "12 0.13666860206610637\n",
            "13 0.729528047408485\n",
            "14 0.5138265315147402\n",
            "15 0.20115855113208453\n",
            "16 0.8925877244582906\n",
            "17 0.09842299637258559\n",
            "18 0.06221278468592346\n",
            "19 0.27812910984475864\n",
            "20 0.09312808387424502\n",
            "21 0.0\n",
            "22 0.04239315764644\n",
            "23 0.975473724469075\n",
            "24 0.8032483818799614\n",
            "25 0.23874199687812644\n",
            "26 0.4157634957131616\n",
            "27 0.04729015118661386\n",
            "28 0.052225552323142715\n",
            "29 0.12002120141486215\n",
            "30 0.3850662568467813\n",
            "31 0.5574783700075365\n",
            "32 0.719321836438711\n",
            "33 0.40799901985642767\n",
            "34 0.9633535490557892\n",
            "35 0.6694698721128437\n",
            "36 0.013801179881896846\n",
            "37 0.2647944051333171\n",
            "38 0.91580873541513\n",
            "39 0.2516664358563838\n",
            "40 0.6404801433343914\n",
            "41 0.6121619608997965\n",
            "42 0.29852593149384604\n",
            "43 0.33360116910583715\n",
            "44 0.9393954240856057\n",
            "45 0.4394242227641035\n",
            "46 0.27143571327636595\n",
            "47 0.027929645312999136\n",
            "48 0.5664152269378625\n",
            "49 0.8584294761970603\n",
            "50 0.781772457454848\n",
            "51 0.0878743767118732\n",
            "52 0.8472201463501107\n",
            "53 0.6500679912412274\n",
            "54 0.7398143066830044\n",
            "55 0.6309669086519178\n",
            "56 0.49683767697877523\n",
            "57 0.057199662290538134\n",
            "58 0.19506414420373747\n",
            "59 0.750181242088905\n",
            "60 0.7606294863769265\n",
            "61 0.9041528766303637\n",
            "62 0.1711571105364704\n",
            "63 0.3054317992770623\n",
            "64 0.43147561766865156\n",
            "65 0.18901716432637386\n",
            "66 0.6215277065490881\n",
            "67 0.39265086881401823\n",
            "68 0.6792850892804776\n",
            "69 0.07748929824057665\n",
            "70 0.5844997684547587\n",
            "71 0.06726522548756357\n",
            "72 0.3700736453403321\n",
            "73 0.34801942268511066\n",
            "74 0.10375943738435027\n",
            "75 0.1310760599029845\n",
            "76 0.6028691000613865\n",
            "77 0.21349113695904967\n",
            "78 0.08266155422300155\n",
            "79 0.7091950508328326\n",
            "80 0.31239183045259716\n",
            "81 0.539812756443669\n",
            "82 0.4801122102193147\n",
            "83 0.8360980482000914\n",
            "84 0.5310829215811589\n",
            "85 0.3775406687981455\n",
            "86 0.4474351695419749\n",
            "87 0.36266473072007954\n",
            "88 0.2582047800602703\n",
            "89 0.771159677260536\n",
            "90 0.023183316424846646\n",
            "91 0.4555089469541406\n",
            "92 0.46364604778737334\n",
            "93 0.5754221765058131\n",
            "94 0.004564499883864648\n",
            "95 0.10913773262170673\n",
            "96 0.20730075708638626\n",
            "97 0.01847392376113891\n",
            "98 0.35531347273082653\n",
            "99 0.17706401227584734\n",
            "100 0.40029496763018746\n",
            "101 0.8141128369038327\n",
            "102 0.32647608554744323\n",
            "103 0.7924684747158548\n",
            "104 0.15948085295496245\n",
            "105 0.14230500708104493\n",
            "106 0.8697267219076188\n",
            "107 0.9275560122333697\n",
            "108 0.34078213538718355\n",
            "109 0.03753427281233483\n",
            "110 0.8250625029045511\n",
            "111 0.42358886910879723\n",
            "112 0.11455821035141471\n",
            "113 0.2916738056000854\n",
            "114 0.2451789734507676\n",
            "115 0.5224210228325268\n",
            "116 0.2848750033730785\n",
            "117 0.16529617667111998\n",
            "118 0.2197300685827992\n",
            "119 0.15371078444700062\n",
            "120 0.07235729307354076\n",
            "121 0.47184696869341985\n",
            "122 0.6991470724977645\n",
            "123 0.2260179327537382\n",
            "124 0.2323551132545908\n",
            "125 0.3194064498292018\n"
          ]
        }
      ]
    },
    {
      "cell_type": "markdown",
      "source": [
        "* **Calcular la media muestral:**\n",
        "\n",
        "  Después de evaluar la función en todas las muestras, calcularemos la media de los resultados obtenidos.\n",
        "\n",
        "  $$θ = E[g(x)] = \\frac{∑_{i=1}^k g(u_i)}{k}$$\n",
        "\n",
        "  donde $k$ es el número de valores aleatorios"
      ],
      "metadata": {
        "id": "rohCRUCenDQz"
      }
    },
    {
      "cell_type": "code",
      "source": [
        "print(\"el valor de la integral es = \",sum(G)/iteraciones)"
      ],
      "metadata": {
        "colab": {
          "base_uri": "https://localhost:8080/"
        },
        "id": "KtUU3NrrrK07",
        "outputId": "c634e11a-6064-4341-d8ec-73f600471931"
      },
      "execution_count": 171,
      "outputs": [
        {
          "output_type": "stream",
          "name": "stdout",
          "text": [
            "el valor de la integral es =  0.4114726060081997\n"
          ]
        }
      ]
    },
    {
      "cell_type": "markdown",
      "source": [
        "###**Monte Carlo python**\n",
        "\n",
        "Se repetirá el procedimiento anterior pero usando la librería ***random** para la genración de valores aleatorios."
      ],
      "metadata": {
        "id": "sDXQJnYYyWXa"
      }
    },
    {
      "cell_type": "code",
      "execution_count": 172,
      "metadata": {
        "colab": {
          "base_uri": "https://localhost:8080/"
        },
        "id": "7q5iq8AATHLm",
        "outputId": "dd33a34e-194a-40dc-ba18-853cdd25783f"
      },
      "outputs": [
        {
          "output_type": "stream",
          "name": "stdout",
          "text": [
            "Estimación de la integral: 0.4166727345556703\n",
            "Varianza: 0.08181130105818998\n"
          ]
        }
      ],
      "source": [
        "#Importamos la librería random\n",
        "import random\n",
        "import numpy as np\n",
        "\n",
        "\n",
        "#Se define la función para estimar la integral\n",
        "def integral(n_muestras):\n",
        "    integral_sum = 0\n",
        "    sum_squared = 0\n",
        "\n",
        "    for _ in range(n_muestras):\n",
        "        x = random.uniform(0, 1) #generación de número aleatorio\n",
        "        integral_sum += g(x) #acumulación de los valores de la función g(x) con respecto al valor aleatorio\n",
        "        sum_squared += g(x) ** 2 #para cáñculo de la varianza\n",
        "\n",
        "    teta = integral_sum / n_muestras\n",
        "    varianza = (sum_squared / n_muestras) - (teta ** 2)\n",
        "\n",
        "    return teta, varianza\n",
        "\n",
        "# Simulación\n",
        "n_muestras = 100000\n",
        "teta,varianza = integral(n_muestras)\n",
        "print(\"Estimación de la integral:\", teta)\n",
        "print(\"Varianza:\", varianza)"
      ]
    },
    {
      "cell_type": "markdown",
      "source": [
        "##**b) Use la técnica de variables antitéticas para reducir la varianza. Indique el porcentaje en que se redujo la varianza.**"
      ],
      "metadata": {
        "id": "9FUwzK_U5KU6"
      }
    },
    {
      "cell_type": "markdown",
      "metadata": {
        "id": "kLZH-yE59fl0"
      },
      "source": [
        "Esta técnica se basa en el uso del teorema:"
      ]
    },
    {
      "cell_type": "markdown",
      "metadata": {
        "id": "7Y8sHgrX9fl5"
      },
      "source": [
        "$$Var(\\frac{X_1+X_2}{2})=\\frac{1}{4}[Var(X_1)+Var(X_1)+2Cov(X_1+X_2)]$$"
      ]
    },
    {
      "cell_type": "markdown",
      "metadata": {
        "id": "-CK4K5n89fl9"
      },
      "source": [
        "Supongamos que $\\hat{\\theta_1}$ es un estimador insesgado del párametro $\\theta$ y que además $\\hat{\\theta_1}$ es una función de $m$ números aleatorios $R_1, ..., R_m$. Debido a que $1 - R_m$ sigue la misma distribución que $R_m$ (ambos $U(0,1)$), podemos construir otro estimador simplemente sustituyendo $R_m$ por $1-R_m$.  "
      ]
    },
    {
      "cell_type": "code",
      "source": [
        "import random\n",
        "import math\n",
        "\n",
        "def g(x):\n",
        "    return (math.exp(x) - 1) / (math.e - 1)\n",
        "\n",
        "def integral(n_muestras):\n",
        "    integral_sum = 0\n",
        "    sum_squared = 0  # Inicializar sum_squared a cero\n",
        "\n",
        "    for _ in range(n_muestras):\n",
        "        x = random.uniform(0, 1)\n",
        "        integral_sum += g(x)\n",
        "        sum_squared += g(x) ** 2\n",
        "\n",
        "    teta = integral_sum / n_muestras\n",
        "    variance = (sum_squared / n_muestras) - (teta ** 2)\n",
        "    return teta, variance\n",
        "\n",
        "# Simulación\n",
        "n_muestras = 1000000\n",
        "teta, variance = integral(n_muestras)\n",
        "print(\"Estimación de la integral:\", teta)\n",
        "print(\"Varianza:\", variance)\n"
      ],
      "metadata": {
        "colab": {
          "base_uri": "https://localhost:8080/"
        },
        "id": "_cF9nzziTECs",
        "outputId": "3a546d46-b672-4462-beb3-6ec83d9460f2"
      },
      "execution_count": 173,
      "outputs": [
        {
          "output_type": "stream",
          "name": "stdout",
          "text": [
            "Estimación de la integral: 0.4187621596696031\n",
            "Varianza: 0.08196504623701431\n"
          ]
        }
      ]
    },
    {
      "cell_type": "code",
      "source": [
        "def integralV(n_muestras):\n",
        "    integral_sum = 0\n",
        "    sum_squared = 0\n",
        "\n",
        "    for _ in range(n_muestras // 2):\n",
        "        x = random.uniform(0, 1)\n",
        "        fx = g(x) + g(1 - x)  # Variable antitética\n",
        "        integral_sum += fx\n",
        "        sum_squared += fx ** 2\n",
        "\n",
        "    teta = integral_sum / n_muestras\n",
        "    varianza = (sum_squared / n_muestras) - (teta ** 2)\n",
        "\n",
        "    return tetaV, varianzaV\n",
        "\n",
        "# Simulación\n",
        "n_muestras=100000000\n",
        "tetaV, varianzaV = integral(n_muestras)\n",
        "print(\"Estimación de la integral:\", tetaV)\n",
        "print(\"Varianza:\", varianzaV)"
      ],
      "metadata": {
        "colab": {
          "base_uri": "https://localhost:8080/"
        },
        "id": "Obvyt0ZALZYi",
        "outputId": "dccb2698-a56e-47b6-8738-d099d5bf9e7a"
      },
      "execution_count": 174,
      "outputs": [
        {
          "output_type": "stream",
          "name": "stdout",
          "text": [
            "Estimación de la integral: 0.41797608046788887\n",
            "Varianza: 0.08196631031905618\n"
          ]
        }
      ]
    },
    {
      "cell_type": "markdown",
      "source": [
        "Reducción de varianza"
      ],
      "metadata": {
        "id": "RFCySFoDTag5"
      }
    },
    {
      "cell_type": "code",
      "source": [
        "print(\"Porcentaje de redución de varianza = \",(varianzaV-variance)*100,\"%\")"
      ],
      "metadata": {
        "colab": {
          "base_uri": "https://localhost:8080/"
        },
        "id": "ta4gCTJYTYZ4",
        "outputId": "6685bcb6-a06c-4d3d-b07c-9f05daeb3a91"
      },
      "execution_count": 175,
      "outputs": [
        {
          "output_type": "stream",
          "name": "stdout",
          "text": [
            "Porcentaje de redución de varianza =  0.0001264082041874115 %\n"
          ]
        }
      ]
    }
  ]
}