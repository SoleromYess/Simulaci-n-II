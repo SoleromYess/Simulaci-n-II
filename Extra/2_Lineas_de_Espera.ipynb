{
  "nbformat": 4,
  "nbformat_minor": 0,
  "metadata": {
    "colab": {
      "provenance": [],
      "authorship_tag": "ABX9TyOfMsL74xZX8f2OeTqtV8p8",
      "include_colab_link": true
    },
    "kernelspec": {
      "name": "python3",
      "display_name": "Python 3"
    },
    "language_info": {
      "name": "python"
    }
  },
  "cells": [
    {
      "cell_type": "markdown",
      "metadata": {
        "id": "view-in-github",
        "colab_type": "text"
      },
      "source": [
        "<a href=\"https://colab.research.google.com/github/SoleromYess/Simulaci-n-II/blob/main/Extra/2_Lineas_de_Espera.ipynb\" target=\"_parent\"><img src=\"https://colab.research.google.com/assets/colab-badge.svg\" alt=\"Open In Colab\"/></a>"
      ]
    },
    {
      "cell_type": "markdown",
      "source": [
        "##**a)Resuelva por simulación el siguiente problema: A un autolavado los autos llegan siguiendo una distribución de Poisson, con 4 autos por hora, que pueden esperar en el estacionamiento de la instalación, si el lugar de lavado está ocupado. El tiempo para lavar y limpiar un automóvil es exponencial, con 10 minutos de promedio. Los automóviles que no se pueden estacionar en la instalación pueden esperar junto al lavado. Eso quiere decir que para todo fin práctico no hay límite del tamaño del sistema. ¿Qué capacidad debería tener el estacionamiento?**"
      ],
      "metadata": {
        "id": "_4QjMO2s7lLv"
      }
    },
    {
      "cell_type": "code",
      "source": [
        "!pip install simpy\n",
        "import simpy\n",
        "import numpy as np"
      ],
      "metadata": {
        "colab": {
          "base_uri": "https://localhost:8080/"
        },
        "id": "k_8uZPUs_was",
        "outputId": "a4c58266-a9e9-4724-91f9-4752acc96521"
      },
      "execution_count": 4,
      "outputs": [
        {
          "output_type": "stream",
          "name": "stdout",
          "text": [
            "Requirement already satisfied: simpy in /usr/local/lib/python3.10/dist-packages (4.0.1)\n"
          ]
        }
      ]
    },
    {
      "cell_type": "markdown",
      "source": [
        "Dado que no hay límite del tamaño del sistema, se tomará un referente de 8 hrs, es decir, 480 min."
      ],
      "metadata": {
        "id": "6gFL2SXXB4Ch"
      }
    },
    {
      "cell_type": "code",
      "execution_count": 18,
      "metadata": {
        "colab": {
          "base_uri": "https://localhost:8080/"
        },
        "id": "VgmJf_gZ7jVs",
        "outputId": "c59af52b-03ab-4ec9-b666-c0570de0eea4"
      },
      "outputs": [
        {
          "output_type": "stream",
          "name": "stdout",
          "text": [
            "Auto 1 llegó al autolavado en el tiempo 0.00\n",
            "Auto 1 comenzó el lavado en el tiempo 0.00\n",
            "Auto 12 llegó al autolavado en el tiempo 1.00\n",
            "Auto 44 llegó al autolavado en el tiempo 2.00\n",
            "Auto 57 llegó al autolavado en el tiempo 3.00\n",
            "Auto 67 llegó al autolavado en el tiempo 4.00\n",
            "Auto 68 llegó al autolavado en el tiempo 5.00\n",
            "Auto 73 llegó al autolavado en el tiempo 6.00\n",
            "Auto 1 terminó el lavado en el tiempo 6.50\n",
            "Auto 12 comenzó el lavado en el tiempo 6.50\n",
            "Auto 81 llegó al autolavado en el tiempo 7.00\n",
            "Auto 92 llegó al autolavado en el tiempo 8.00\n",
            "Auto 12 terminó el lavado en el tiempo 8.11\n",
            "Auto 44 comenzó el lavado en el tiempo 8.11\n",
            "Auto 96 llegó al autolavado en el tiempo 9.00\n",
            "Auto 98 llegó al autolavado en el tiempo 10.00\n",
            "Auto 106 llegó al autolavado en el tiempo 11.00\n",
            "Auto 117 llegó al autolavado en el tiempo 12.00\n",
            "Auto 133 llegó al autolavado en el tiempo 13.00\n",
            "Auto 161 llegó al autolavado en el tiempo 14.00\n",
            "Auto 44 terminó el lavado en el tiempo 14.25\n",
            "Auto 57 comenzó el lavado en el tiempo 14.25\n",
            "Auto 167 llegó al autolavado en el tiempo 15.00\n",
            "Auto 188 llegó al autolavado en el tiempo 16.00\n",
            "Auto 223 llegó al autolavado en el tiempo 17.00\n",
            "Auto 238 llegó al autolavado en el tiempo 18.00\n",
            "Auto 562 llegó al autolavado en el tiempo 19.00\n",
            "Auto 563 llegó al autolavado en el tiempo 20.00\n",
            "Auto 302 llegó al autolavado en el tiempo 21.00\n",
            "Auto 325 llegó al autolavado en el tiempo 22.00\n",
            "Auto 362 llegó al autolavado en el tiempo 23.00\n",
            "Auto 57 terminó el lavado en el tiempo 23.98\n",
            "Auto 67 comenzó el lavado en el tiempo 23.98\n",
            "Auto 378 llegó al autolavado en el tiempo 24.00\n",
            "Auto 442 llegó al autolavado en el tiempo 25.00\n",
            "Auto 444 llegó al autolavado en el tiempo 26.00\n",
            "Auto 447 llegó al autolavado en el tiempo 27.00\n",
            "Auto 465 llegó al autolavado en el tiempo 28.00\n",
            "Auto 476 llegó al autolavado en el tiempo 29.00\n",
            "Auto 67 terminó el lavado en el tiempo 39.25\n",
            "Auto 68 comenzó el lavado en el tiempo 39.25\n",
            "Auto 68 terminó el lavado en el tiempo 64.34\n",
            "Auto 73 comenzó el lavado en el tiempo 64.34\n",
            "Auto 73 terminó el lavado en el tiempo 72.33\n",
            "Auto 81 comenzó el lavado en el tiempo 72.33\n",
            "Auto 81 terminó el lavado en el tiempo 76.72\n",
            "Auto 92 comenzó el lavado en el tiempo 76.72\n",
            "Auto 92 terminó el lavado en el tiempo 85.10\n",
            "Auto 96 comenzó el lavado en el tiempo 85.10\n",
            "Auto 96 terminó el lavado en el tiempo 113.34\n",
            "Auto 98 comenzó el lavado en el tiempo 113.34\n",
            "Auto 98 terminó el lavado en el tiempo 126.69\n",
            "Auto 106 comenzó el lavado en el tiempo 126.69\n",
            "Auto 106 terminó el lavado en el tiempo 143.63\n",
            "Auto 117 comenzó el lavado en el tiempo 143.63\n",
            "Auto 117 terminó el lavado en el tiempo 152.49\n",
            "Auto 133 comenzó el lavado en el tiempo 152.49\n",
            "Auto 133 terminó el lavado en el tiempo 172.73\n",
            "Auto 161 comenzó el lavado en el tiempo 172.73\n",
            "Auto 161 terminó el lavado en el tiempo 174.96\n",
            "Auto 167 comenzó el lavado en el tiempo 174.96\n",
            "Auto 167 terminó el lavado en el tiempo 197.09\n",
            "Auto 188 comenzó el lavado en el tiempo 197.09\n",
            "Auto 188 terminó el lavado en el tiempo 218.13\n",
            "Auto 223 comenzó el lavado en el tiempo 218.13\n",
            "Auto 223 terminó el lavado en el tiempo 220.86\n",
            "Auto 238 comenzó el lavado en el tiempo 220.86\n",
            "Auto 238 terminó el lavado en el tiempo 243.21\n",
            "Auto 562 comenzó el lavado en el tiempo 243.21\n",
            "Auto 562 terminó el lavado en el tiempo 247.86\n",
            "Auto 563 comenzó el lavado en el tiempo 247.86\n",
            "Auto 563 terminó el lavado en el tiempo 255.34\n",
            "Auto 302 comenzó el lavado en el tiempo 255.34\n",
            "Auto 302 terminó el lavado en el tiempo 257.07\n",
            "Auto 325 comenzó el lavado en el tiempo 257.07\n",
            "Auto 325 terminó el lavado en el tiempo 258.32\n",
            "Auto 362 comenzó el lavado en el tiempo 258.32\n",
            "Auto 362 terminó el lavado en el tiempo 266.51\n",
            "Auto 378 comenzó el lavado en el tiempo 266.51\n",
            "Auto 378 terminó el lavado en el tiempo 269.83\n",
            "Auto 442 comenzó el lavado en el tiempo 269.83\n",
            "Auto 442 terminó el lavado en el tiempo 279.60\n",
            "Auto 444 comenzó el lavado en el tiempo 279.60\n",
            "Auto 444 terminó el lavado en el tiempo 295.99\n",
            "Auto 447 comenzó el lavado en el tiempo 295.99\n",
            "Auto 447 terminó el lavado en el tiempo 298.83\n",
            "Auto 465 comenzó el lavado en el tiempo 298.83\n",
            "Auto 465 terminó el lavado en el tiempo 307.58\n",
            "Auto 476 comenzó el lavado en el tiempo 307.58\n",
            "Auto 476 terminó el lavado en el tiempo 325.48\n"
          ]
        }
      ],
      "source": [
        "import simpy\n",
        "import numpy as np\n",
        "\n",
        "# Parámetros de la simulación\n",
        "tiempo_simulacion = 480  # Duración de la simulación en minutos (8 horas)\n",
        "autos_por_hora = 4\n",
        "tiempo_lavado = 10  # Tiempo promedio de lavado en minutos\n",
        "\n",
        "def llegada_autos(env, estacionamiento, lavado):\n",
        "    # Generar llegada de autos de acuerdo a una distribución de Poisson\n",
        "    llegada = np.random.poisson(autos_por_hora / 60, tiempo_simulacion)\n",
        "    for i, autos in enumerate(llegada):\n",
        "        for j in range(autos):\n",
        "            auto = Auto(env, 'Auto %d' % (i * autos + j), lavado)\n",
        "            env.process(auto.proceso_lavado())\n",
        "            yield env.timeout(1)  # Tiempo entre llegadas de autos\n",
        "\n",
        "class Auto:\n",
        "    def __init__(self, env, nombre, lavado):\n",
        "        self.env = env\n",
        "        self.nombre = nombre\n",
        "        self.lavado = lavado\n",
        "\n",
        "    def proceso_lavado(self):\n",
        "        print('%s llegó al autolavado en el tiempo %.2f' % (self.nombre, self.env.now))\n",
        "        with self.lavado.request() as req:\n",
        "            yield req\n",
        "            print('%s comenzó el lavado en el tiempo %.2f' % (self.nombre, self.env.now))\n",
        "            yield self.env.timeout(np.random.exponential(tiempo_lavado))\n",
        "            print('%s terminó el lavado en el tiempo %.2f' % (self.nombre, self.env.now))\n",
        "\n",
        "# Crear el entorno de simulación\n",
        "env = simpy.Environment()\n",
        "\n",
        "# Crear los recursos (estacionamiento y lavado)\n",
        "estacionamiento = simpy.Resource(env, capacity=1)\n",
        "lavado = simpy.Resource(env, capacity=1)\n",
        "\n",
        "# Iniciar la simulación\n",
        "env.process(llegada_autos(env, estacionamiento, lavado))\n",
        "env.run(until=tiempo_simulacion)\n",
        "\n"
      ]
    },
    {
      "cell_type": "markdown",
      "source": [
        "Evaluando los resultados, yo sugeriría que el estacionamiento tenga una capacidad  mínima de 12 automóviles."
      ],
      "metadata": {
        "id": "dH_2QiJHGD1d"
      }
    }
  ]
}