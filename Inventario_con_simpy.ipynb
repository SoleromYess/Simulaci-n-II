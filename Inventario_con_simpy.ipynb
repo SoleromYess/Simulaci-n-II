{
  "nbformat": 4,
  "nbformat_minor": 0,
  "metadata": {
    "colab": {
      "provenance": [],
      "authorship_tag": "ABX9TyMtG0ExkWC7+OOqLrXEHvh+",
      "include_colab_link": true
    },
    "kernelspec": {
      "name": "python3",
      "display_name": "Python 3"
    },
    "language_info": {
      "name": "python"
    }
  },
  "cells": [
    {
      "cell_type": "markdown",
      "metadata": {
        "id": "view-in-github",
        "colab_type": "text"
      },
      "source": [
        "<a href=\"https://colab.research.google.com/github/SoleromYess/Simulaci-n-II/blob/main/Inventario_con_simpy.ipynb\" target=\"_parent\"><img src=\"https://colab.research.google.com/assets/colab-badge.svg\" alt=\"Open In Colab\"/></a>"
      ]
    },
    {
      "cell_type": "code",
      "execution_count": 4,
      "metadata": {
        "colab": {
          "base_uri": "https://localhost:8080/"
        },
        "id": "kwkZkOvJokKD",
        "outputId": "a7d59c66-e71e-43c9-a79a-8da87db17539"
      },
      "outputs": [
        {
          "output_type": "stream",
          "name": "stdout",
          "text": [
            "Looking in indexes: https://pypi.org/simple, https://us-python.pkg.dev/colab-wheels/public/simple/\n",
            "Requirement already satisfied: simpy in /usr/local/lib/python3.10/dist-packages (4.0.1)\n"
          ]
        }
      ],
      "source": [
        "#Importar librerías\n",
        "!pip install simpy\n",
        "import simpy\n",
        "import numpy as np\n",
        "import matplotlib.pyplot as plt"
      ]
    },
    {
      "cell_type": "code",
      "source": [
        "def warehouse_run(env, order_cutoff, order_target): #Se define el 'almacén' con tres entradas: entorno 'env', límite de la orden y destino.\n",
        "  global inventory, balance, num_ordered #Se definen las varibales como globales\n",
        "  #Parámetros del almacén\n",
        "  inventory = order_target #Inventario variable\n",
        "  balance = 0.0 #Iniciación de la variable 'saldo'\n",
        "  num_ordered = 0 #Número de productos ordenados\n",
        "\n",
        "  while True:\n",
        "    interarrival = generate_interarrival() #Manda a llamar el generador de llegadas\n",
        "    yield env.timeout(interarrival) #Calcular tiempo de espera\n",
        "    balance -= inventory*2*interarrival #Saldo = inventario * costo de mantenimiento * tiempo entre llegadas\n",
        "    demand = generate_demand() #registro de demanda por cliente\n",
        "    if demand < inventory: #Si la demanda es menor que el inventario\n",
        "      balance += 100*demand #saldo se incrementará, con la demanda por el costo del producto\n",
        "      inventory -= demand #Se reduce el inventario de las unidades vendidas\n",
        "      print ('{:.2f} sold {}'.format(env.now, demand))\n",
        "    else: #Si la demanda es mayor que el inventario\n",
        "      balance += 100*inventory\n",
        "      inventory = 0 #Se venderán todas la unidades quedando con un num de inventario 0\n",
        "      print ('{:.2f} sold {} (out of stock)'.format(env.now,inventory))\n",
        "    if inventory < order_cutoff and num_ordered == 0: #Si el inventario está por debajo del límite, se realiaza un nuevo pedido\n",
        "      env.process(handle_order(env, order_target))\n",
        "\n",
        "def handle_order(env, order_target): #Determinar cuanto se debe ordenar\n",
        "  global inventory, balance, num_ordered\n",
        "\n",
        "  num_ordered = order_target - inventory\n",
        "  print ('{:.2f} placed order for {}'.format(env.now, num_ordered))\n",
        "  balance -= 50*num_ordered #se modifica el saldo con los costos correspondientes\n",
        "  yield env.timeout(2.0)\n",
        "  inventory += num_ordered\n",
        "  num_ordered = 0\n",
        "  print('{:.2f} received order, {} in inventory'.format(env.now, inventory))\n",
        "\n",
        "def generate_interarrival(): #Generador de llegadas\n",
        "  return np.random.exponential(1./5)\n",
        "\n",
        "def generate_demand(): #Generador de demanda\n",
        "  return np.random.randint(1, 5)\n",
        "\n",
        "obs_time = []\n",
        "inventory_level = []\n",
        "\n",
        "def observe(env):\n",
        "  global inventory\n",
        "\n",
        "  while True:\n",
        "    obs_time.append(env.now)\n",
        "    inventory_level.append(inventory)\n",
        "    yield env.timeout(0.1)\n",
        "\n",
        "np.random.seed(0) #Generación de números aleatorios con inicio o 'semilla' en 0\n",
        "\n",
        "env = simpy.Environment() #Se define env como el entorno de simulación\n",
        "env.process(warehouse_run(env, 25, 50)) #La simulación tomará el entorno env con un inventario en 50 y un mínimo en inventario de 25\n",
        "env.process(observe(env))\n",
        "\n",
        "env.run(until = 5.0) #Tiempo de ejecución de la simulación: 5 días\n",
        "\n",
        "plt.figure()\n",
        "plt.step(obs_time, inventory_level, where = 'post') #Se grafica la simulación\n",
        "plt.xlabel('Simulation time(days)')\n",
        "plt.ylabel('Inventory level')"
      ],
      "metadata": {
        "id": "xkz5rRRADGBm",
        "outputId": "6ee51ba9-d17e-41d8-bcf0-7fafc7925655",
        "colab": {
          "base_uri": "https://localhost:8080/",
          "height": 970
        }
      },
      "execution_count": 5,
      "outputs": [
        {
          "output_type": "stream",
          "name": "stdout",
          "text": [
            "0.16 sold 2\n",
            "0.53 sold 4\n",
            "0.69 sold 2\n",
            "0.88 sold 3\n",
            "1.00 sold 3\n",
            "1.01 sold 1\n",
            "1.11 sold 3\n",
            "1.44 sold 3\n",
            "1.61 sold 2\n",
            "1.97 sold 1\n",
            "1.99 sold 4\n",
            "1.99 placed order for 28\n",
            "2.08 sold 2\n",
            "2.38 sold 4\n",
            "2.79 sold 4\n",
            "3.11 sold 4\n",
            "3.26 sold 4\n",
            "3.28 sold 1\n",
            "3.46 sold 2\n",
            "3.99 received order, 29 in inventory\n",
            "4.04 sold 4\n",
            "4.06 sold 4\n",
            "4.06 placed order for 29\n",
            "4.12 sold 4\n",
            "4.39 sold 1\n",
            "4.56 sold 1\n",
            "4.63 sold 2\n",
            "4.82 sold 1\n",
            "4.92 sold 1\n"
          ]
        },
        {
          "output_type": "execute_result",
          "data": {
            "text/plain": [
              "Text(0, 0.5, 'Inventory level')"
            ]
          },
          "metadata": {},
          "execution_count": 5
        },
        {
          "output_type": "display_data",
          "data": {
            "text/plain": [
              "<Figure size 640x480 with 1 Axes>"
            ],
            "image/png": "[encoded data removed]"
          },
          "metadata": {}
        }
      ]
    },
    {
      "cell_type": "code",
      "source": [],
      "metadata": {
        "id": "onoCejKTDu5Y"
      },
      "execution_count": null,
      "outputs": []
    },
    {
      "cell_type": "code",
      "source": [],
      "metadata": {
        "id": "4dhNt7fgCzS-"
      },
      "execution_count": null,
      "outputs": []
    }
  ]
}