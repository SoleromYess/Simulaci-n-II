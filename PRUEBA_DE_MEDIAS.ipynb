{
  "nbformat": 4,
  "nbformat_minor": 0,
  "metadata": {
    "colab": {
      "provenance": [],
      "authorship_tag": "ABX9TyPfENmw0wPeBK/ZqWmhRkIq",
      "include_colab_link": true
    },
    "kernelspec": {
      "name": "python3",
      "display_name": "Python 3"
    },
    "language_info": {
      "name": "python"
    }
  },
  "cells": [
    {
      "cell_type": "markdown",
      "metadata": {
        "id": "view-in-github",
        "colab_type": "text"
      },
      "source": [
        "<a href=\"https://colab.research.google.com/github/SoleromYess/Simulaci-n-II/blob/main/PRUEBA_DE_MEDIAS.ipynb\" target=\"_parent\"><img src=\"https://colab.research.google.com/assets/colab-badge.svg\" alt=\"Open In Colab\"/></a>"
      ]
    },
    {
      "cell_type": "markdown",
      "source": [
        "### **PRUEBA DE MEDIAS**\n"
      ],
      "metadata": {
        "id": "A2yqsT_2esRy"
      }
    },
    {
      "cell_type": "code",
      "execution_count": 36,
      "metadata": {
        "id": "NfJZ5qxdeoD_",
        "colab": {
          "base_uri": "https://localhost:8080/"
        },
        "outputId": "83ef7a60-18d3-4a87-b4f6-7e3da085b914"
      },
      "outputs": [
        {
          "output_type": "stream",
          "name": "stdout",
          "text": [
            "Ingrese la cantidad de valores a evaluar: 8\n",
            "Ingrese el dato  1 :\n",
            "0.0449\n",
            "Ingrese el dato  2 :\n",
            "0.6015\n",
            "Ingrese el dato  3 :\n",
            "0.63\n",
            "Ingrese el dato  4 :\n",
            "0.5514\n",
            "Ingrese el dato  5 :\n",
            "0.0207\n",
            "Ingrese el dato  6 :\n",
            "0.1733\n",
            "Ingrese el dato  7 :\n",
            "0.6694\n",
            "Ingrese el dato  8 :\n",
            "0.2531\n",
            "1 :  0.0449\n",
            "2 :  0.6015\n",
            "3 :  0.63\n",
            "4 :  0.5514\n",
            "5 :  0.0207\n",
            "6 :  0.1733\n",
            "7 :  0.6694\n",
            "8 :  0.2531\n",
            "¿Deseas corregir algún valor?\n",
            "1-SI\n",
            "2-NO\n",
            "2\n",
            "¡Perfecto ^u^!\n",
            "Se establecen las hipótesis:\n",
            "H0: μ=1/2\n",
            "Hi: μ diferente a 1/2\n",
            "\n",
            "PASO 1: Se calcula la media de los  8 números generados. \n",
            "media=  0.3680375\n",
            "¿Cuál es el nivel de aceptación (alpha): 0.05\n",
            "\n",
            "PASO 2: Se calculan los límites superior e inferior de aceptación.\n",
            "El valor en tablas Z(α/2):  1.959963984540054\n",
            "Límite superior\n",
            "ls= 1/2 + Z(α/2)(1/sqrt(12*n))=  0.7000379865148046\n",
            "Límite inferior\n",
            "ls= 1/2 - Z(α/2)(1/sqrt(12*n))=  0.29996201348519536\n",
            "\n",
            "PASO 3: Finalmente, dado que\n",
            "\n",
            "li<=media<=ls, se ACEPTA la hipótesis nula, es decir, los  8 números tienen una media estadísticamente igual a 1/2 con un nivel de aceptación del  0.95 .\n"
          ]
        }
      ],
      "source": [
        "#==========================================================================================\n",
        "#Librerías\n",
        "import numpy as np \n",
        "import math\n",
        "import scipy.stats as st\n",
        "#==========================================================================================\n",
        "#DATOS\n",
        "#Número de datos que se ingresarán\n",
        "while True: #Ciclo para validar que la variable sea una entrada válida\n",
        "  n = input(\"Ingrese la cantidad de valores a evaluar: \"); #leer la variable n\n",
        "  if n.isnumeric(): # si n es un valor numérico se convertirá a entero\n",
        "      n = int(n)\n",
        "      break #terminar el ciclo\n",
        "  else: #si no es un valor numérico se mostrará el mensaje y se repetirá el ciclo\n",
        "      print(\"El valor ingresado no es un número. Intente de nuevo.\")\n",
        "\n",
        "#Se leerán los datos, uno a uno:\n",
        "datos = []; #Se crea una lista vacía para los n valores\n",
        "for i in range(0,n): #ciclo para ingresar los valores uno a uno\n",
        "  print(\"Ingrese el dato \",i+1,\":\" )\n",
        "  while True: #ciclo que válida que el el valor ingresado sea numérico\n",
        "    d = input()\n",
        "    if d.replace('.', '', 1).isdigit():#se usa .isdigit para no rechazar valores flotantes\n",
        "      d = float(d);\n",
        "      datos.append(d); #ya que el valor es numerico se añade a la lista datos\n",
        "      break\n",
        "    else:\n",
        "      print(\"El valor ingresado no es un número. Intente de nuevo.\"); \n",
        "\n",
        "#Ya con los valores ingresados se revisará que estos sean correctos\n",
        "while True:\n",
        "    for i in range(0,n):\n",
        "      print(i+1, \": \",datos[i])\n",
        "    print(\"¿Deseas corregir algún valor?\\n1-SI\\n2-NO\")\n",
        "    opc = input()\n",
        "    if opc == \"1\":#opción de corrección\n",
        "        error = int(input(\"Ingrese el número del valor que desea cambiar: \"))#se ingresa el índice del error\n",
        "        datos[error-1] = float(input(\"Introduzca el nuevo valor: \")) #se ingresa la corrección\n",
        "    elif opc == \"2\":\n",
        "        print(\"¡Perfecto ^u^!\")\n",
        "        break\n",
        "    else:\n",
        "        print(\"Opción no válida. Por favor, seleccione '1' o '2'.\")\n",
        "#==========================================================================================\n",
        "#Aplicación de la hipótesis\n",
        "print(\"Se establecen las hipótesis:\\nH0: \\u03BC=1/2\\nHi: \\u03BC diferente a 1/2\\n\");\n",
        "\n",
        "print(\"PASO 1: Se calcula la media de los \",n ,\"números generados. \");\n",
        "media=sum(datos)/n;\n",
        "print(\"media= \", media);\n",
        "alfa = float(input(\"¿Cuál es el nivel de aceptación (alpha): \"));# Definir el nivel de significancia alfa\n",
        "\n",
        "print(\"\\nPASO 2: Se calculan los límites superior e inferior de aceptación.\" )\n",
        "# Calcular el valor de Z en tablas\n",
        "Z = st.norm.ppf(1 - alfa/2)\n",
        "print(\"El valor en tablas Z(\\u03B1/2): \", Z)\n",
        "#--------------------------------------------------------\n",
        "ls=0.5+Z*(1/math.sqrt(12*n));\n",
        "print(\"Límite superior\\nls= 1/2 + Z(\\u03B1/2)(1/sqrt(12*n))= \",ls );\n",
        "li=0.5-Z*(1/math.sqrt(12*n));\n",
        "print(\"Límite inferior\\nls= 1/2 - Z(\\u03B1/2)(1/sqrt(12*n))= \",li )\n",
        "print(\"\\nPASO 3: Finalmente, dado que\")\n",
        "if li<=media<=ls:\n",
        "  print(\"\\nli<=media<=ls, se ACEPTA la hipótesis nula, es decir, los \",n, \"números tienen una media estadísticamente igual a 1/2 con un nivel de aceptación del \", 1-alfa,\".\")\n",
        "else:\n",
        "  print(\"\\nno se cumple li<=media<=ls, se RECHAZA la hipótesis nula, es decir, los \",n, \"números tienen una media estadísticamente distinta a 1/2 con un nivel de aceptación del \", 1-alfa,\".\")\n"
      ]
    }
  ]
}