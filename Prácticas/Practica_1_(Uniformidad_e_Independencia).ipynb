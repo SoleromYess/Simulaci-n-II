{
  "nbformat": 4,
  "nbformat_minor": 0,
  "metadata": {
    "colab": {
      "provenance": [],
      "authorship_tag": "ABX9TyP+eUxQsXbOz/IQoN2llIAA",
      "include_colab_link": true
    },
    "kernelspec": {
      "name": "python3",
      "display_name": "Python 3"
    },
    "language_info": {
      "name": "python"
    }
  },
  "cells": [
    {
      "cell_type": "markdown",
      "metadata": {
        "id": "view-in-github",
        "colab_type": "text"
      },
      "source": [
        "<a href=\"https://colab.research.google.com/github/SoleromYess/Simulaci-n-II/blob/main/Pr%C3%A1cticas/Practica_1_(Uniformidad_e_Independencia).ipynb\" target=\"_parent\"><img src=\"https://colab.research.google.com/assets/colab-badge.svg\" alt=\"Open In Colab\"/></a>"
      ]
    },
    {
      "cell_type": "markdown",
      "source": [
        "# **Práctica 1**\n",
        "En este notebook se implementarán las **Pruebas de Uniformidad** y las **Pruebas de Independencia** de números aleatorios vistas en clase.\n",
        "\n"
      ],
      "metadata": {
        "id": "f9a1wEWVQqrd"
      }
    },
    {
      "cell_type": "code",
      "source": [
        "#Importamos la bibliotecas que se implementarán\n",
        "\n",
        "import numpy as np  #utilizada principalmente para trabajar con matrices numéricas\n",
        "import math #para realizar operaciones matemáticas comunes\n",
        "import random  #generar números pseudoaleatorios\n",
        "from scipy import integrate #Para realizar integrales\n",
        "import scipy.stats as st #Para obtner los valores de la distribución normal (z)\n",
        "import scipy.stats as stats #Para obtner los valores de chi cuadrada\n",
        "from scipy.stats import kstwobign\n",
        "from scipy.stats import kstest #Para obtener los valores críticos de Kolmogorov-Smirnov"
      ],
      "metadata": {
        "id": "9L6bQu04Q0uh"
      },
      "execution_count": null,
      "outputs": []
    },
    {
      "cell_type": "markdown",
      "source": [
        "Se definen algunas funciones para validar los datos ingresados"
      ],
      "metadata": {
        "id": "bHEwrUfW59ji"
      }
    },
    {
      "cell_type": "code",
      "source": [
        "#Validar números enteros\n",
        "def validar_numero(n):\n",
        "  if n.isnumeric():\n",
        "      n = int(n)\n",
        "      return True\n",
        "  else:\n",
        "      return False\n",
        "#======================================================"
      ],
      "metadata": {
        "id": "eDr1f6Xu8MOf"
      },
      "execution_count": null,
      "outputs": []
    },
    {
      "cell_type": "markdown",
      "source": [
        "Se podrán ingresar datos uno a uno o generarlos aleatoriamente"
      ],
      "metadata": {
        "id": "Dp10ycll75vS"
      }
    },
    {
      "cell_type": "code",
      "source": [
        "print(\"¿Ingresará los datos o prefiere que sean generados aleatoriamente?\\n1-Ingresar\\n2-Aleatorios\");\n",
        "opc= input();\n",
        "A = []; #Se crea una lista vacía para los n valores\n",
        "\n",
        "while opc==\"1\" or opc==\"2\":\n",
        "  if opc == \"1\":#opción de ingresar datos\n",
        "    print(\"Ingresará los datos uno a uno:\");\n",
        "\n",
        "    #Número de datos que se ingresarán\n",
        "\n",
        "    while True: #Ciclo para validar que la variable sea una entrada válida llamando a la función \"validar número\"\n",
        "      n = input(\"\\nIngrese la cantidad de valores a evaluar: \"); #leer la variable n\n",
        "      if n.isnumeric(): # si n es un valor numérico se convertirá a entero\n",
        "        n = int(n)\n",
        "        break #terminar el ciclo\n",
        "      else: #si no es un valor numérico se mostrará el mensaje y se repetirá el ciclo\n",
        "        print(\"El valor ingresado no es un número. Intente de nuevo.\")\n",
        "\n",
        "    #Se leerán los datos, uno a uno:\n",
        "\n",
        "    for i in range(0,n): #ciclo para ingresar los valores uno a uno\n",
        "      print(\"Ingrese el dato \",i+1,\":\" )\n",
        "      while True: #ciclo que válida que el el valor ingresado sea numérico\n",
        "        d = input()\n",
        "        if d.replace('.', '', 1).isdigit():#se usa .isdigit para no rechazar valores flotantes\n",
        "          d = float(d);\n",
        "          A.append(d); #ya que el valor es numerico se añade a la lista datos\n",
        "          break\n",
        "        else:\n",
        "          print(\"El valor ingresado no es un número. Intente de nuevo.\"); \n",
        "\n",
        "    #Ya con los valores ingresados se revisará que estos sean correctos\n",
        "\n",
        "    while True:\n",
        "      print(\"\\nLos datos ingresados son los siguientes: \")\n",
        "      for i in range(0,n):\n",
        "        print(i+1, \": \",A[i])\n",
        "      print(\"\\n¿Deseas corregir algún valor?\\n1-SI\\n2-NO\")\n",
        "      opc = input()\n",
        "      if opc == \"1\":#opción de corrección\n",
        "        error = int(input(\"\\nIngrese el número del valor que desea cambiar: \"))#se ingresa el índice del error\n",
        "        A[error-1] = float(input(\"\\nIntroduzca el nuevo valor: \")) #se ingresa la corrección\n",
        "      elif opc == \"2\":\n",
        "        print(\"\\n¡Perfecto ^u^!\\n\")\n",
        "        break\n",
        "      else:\n",
        "        print(\"Opción no válida. Por favor, seleccione '1' o '2'.\");\n",
        "\n",
        "    break\n",
        "\n",
        "  elif opc == \"2\": #opción de generar datos aleatorios\n",
        "\n",
        "    #Número de datos que se generarán\n",
        "\n",
        "    while True: #Ciclo para validar que la variable sea una entrada válida llamando a la función \"validar número\"\n",
        "      n = input(\"\\nIngrese la cantidad de valores a generar: \"); #leer la variable n\n",
        "      if n.isnumeric(): # si n es un valor numérico se convertirá a entero\n",
        "        n = int(n)\n",
        "        break #terminar el ciclo\n",
        "      else: #si no es un valor numérico se mostrará el mensaje y se repetirá el ciclo\n",
        "        print(\"El valor ingresado no es un número. Intente de nuevo.\")\n",
        "\n",
        "    #Número de decimales para los aleatorios\n",
        "\n",
        "    while True: #Ciclo para validar que la variable sea una entrada válida llamando a la función \"validar número\"\n",
        "      decimales = input(\"\\nNúmero de decimales que tendrán los valores aleatorios : \"); #leer la variable n\n",
        "      if decimales.isnumeric(): # si n es un valor numérico se convertirá a entero\n",
        "        decimales = int(decimales)\n",
        "        break #terminar el ciclo\n",
        "      else: #si no es un valor numérico se mostrará el mensaje y se repetirá el ciclo\n",
        "        print(\"El valor ingresado no es un número. Intente de nuevo.\")\n",
        "\n",
        "  #Límite inferior para los aleatorios\n",
        "\n",
        "    while True: #Ciclo para validar que la variable sea una entrada válida llamando a la función \"validar número\"\n",
        "      inf = input(\"\\nValor mínimo de los números aleatorios: \"); #leer la variable n\n",
        "      if inf.isnumeric(): # si n es un valor numérico se convertirá a entero\n",
        "        inf = int(inf)\n",
        "        break #terminar el ciclo\n",
        "      else: #si no es un valor numérico se mostrará el mensaje y se repetirá el ciclo\n",
        "        print(\"El valor ingresado no es un número. Intente de nuevo.\")\n",
        "\n",
        "  #Límite superior para los aleatorios\n",
        "\n",
        "    while True: #Ciclo para validar que la variable sea una entrada válida llamando a la función \"validar número\"\n",
        "      may = input(\"\\nValor mayor de los números aleatorios: \"); #leer la variable n\n",
        "      if may.isnumeric(): # si n es un valor numérico se convertirá a entero\n",
        "        may = int(may)\n",
        "        break #terminar el ciclo\n",
        "      else: #si no es un valor numérico se mostrará el mensaje y se repetirá el ciclo\n",
        "        print(\"El valor ingresado no es un número. Intente de nuevo.\")\n",
        "    print(\"\\n\")\n",
        "    #generación de números aleatorios\n",
        "    for i in range(n):\n",
        "      A.append(round(random.uniform(inf, may), decimales))\n",
        "      print(A[i])  \n",
        "\n",
        "    break\n",
        "  else:\n",
        "      print(\"Opción no válida. Por favor, seleccione '1' o '2'.\")"
      ],
      "metadata": {
        "id": "2zKGjlKlVQBf"
      },
      "execution_count": null,
      "outputs": []
    },
    {
      "cell_type": "markdown",
      "source": [
        "**Prueba de uniformidad**\n",
        "\n",
        "La prueba de uniformidad es una prueba estadística que se utiliza para verificar si una muestra de datos proviene de una distribución uniforme o no. La distribución uniforme es aquella en la que todos los valores posibles tienen la misma probabilidad de ocurrir, es decir, la distribución es \"uniforme\" en el rango de valores posibles.\n",
        "\n",
        "Se generan las hipótesis siguientes para verificar si el grupo de números cumplen con la prueba de uniformidad:\n",
        "\n",
        "$H_0: r_i \\sim U(0,1)$\n",
        "\n",
        "$H_i: r_i $ no son uniformes\n",
        "\n",
        "La metodología es la **prueba de bondad de ajuste** $\\chi^2$:\n",
        "\n",
        "1. Se colocan los datos en una tabla de frecuencias de: $m = \\sqrt n $   intervalos."
      ],
      "metadata": {
        "id": "1hGNEdrIGbKH"
      }
    },
    {
      "cell_type": "code",
      "source": [
        "m=math.sqrt(n) #número de clases o intervalos\n",
        "#condicionales para aproximar m al número entero más cercano\n",
        "if m- (m//1) < .5 :\n",
        "  m=int(m//1)\n",
        "if m - (m//1) >= .5 :\n",
        "  m=int(m//1 + 1 )\n",
        "print(m)"
      ],
      "metadata": {
        "colab": {
          "base_uri": "https://localhost:8080/"
        },
        "id": "o7HAGvnIIBKL",
        "outputId": "7e01fe76-1afe-44cf-f7df-d1f7c414500d"
      },
      "execution_count": null,
      "outputs": [
        {
          "output_type": "stream",
          "name": "stdout",
          "text": [
            "3\n"
          ]
        }
      ]
    },
    {
      "cell_type": "markdown",
      "source": [
        "Se obtiene la Frecuencia Observada $FO_i$ en cada intervalo $i$.\n",
        "\n",
        "Se propone una distribución de probabilidad de acuerdo con la forma de la tabla de frecuencias obtenidas. $$F(x) = \\int_{l_i}^{l_s} \\frac{1}{b-a}dx = \\frac{l_s-l_i}{b-a}$$\n",
        "\n",
        "Luego, calculamos la Frecuencia Esperada para cada uno de los intervalos $(FE_i)$ mediante la integreación de la distribución propuesta y su posterior multiplicación por el número total de datos.\n",
        "\n",
        "Se calcula el estimador: $$C = \\sum_{i=1}^m \\frac{(FE_i - FO_i)^2}{FE_i}$$\n"
      ],
      "metadata": {
        "id": "pHtE4S1UPWdH"
      }
    },
    {
      "cell_type": "code",
      "source": [
        "A_ord=np.sort(A) #Ordenamos los datos\n",
        "decimales=int(input(\"¿a cuántos decimales desea redondear?: \"))  #a cuánto se desea redondear\n",
        "dato_menor = A_ord[0]\n",
        "dato_mayor = A_ord[n-1]\n",
        "\n",
        "rango = dato_mayor - dato_menor\n",
        "\n",
        "Amplitud = round(rango/m , decimales) \n",
        "\n",
        "pre_calculo = round(dato_menor+(m*(Amplitud)),1);\n",
        "exceso= round(pre_calculo-dato_mayor,1);\n",
        "#print(\"Amplitud = \",Amplitud)\n",
        "#print(\"pre_calculo = \",pre_calculo)\n",
        "#print(\"exceso = \",exceso)\n",
        "\n",
        "if exceso % 2 == 0:\n",
        "    lim_inf=dato_menor - (exceso/2)\n",
        "else:\n",
        "    print(\"El exceso es impar, el usuario debe hallar dos numeros consecutivos de tal forma que su suma sea igual a \",exceso, \"luego,se selecciona el más pequeño de estos:\")\n",
        "    while True: #ciclo que válida que el el valor ingresado sea numérico\n",
        "      imp=input(\"ingrese ese valor: \")\n",
        "      if imp.replace('.', '', 1).isdigit():#se usa .isdigit para no rechazar valores flotantes\n",
        "        imp = float(imp);\n",
        "        break\n",
        "      else:\n",
        "        print(\"El valor ingresado no es un número. Intente de nuevo.\");\n",
        "\n",
        "    lim_inf=dato_menor - imp\n",
        "\n",
        "print(\"\\n      CLASES                  FOi                         F(x)                FEi = F(x)*n   \")\n",
        "lim_sup=0\n",
        "j=0\n",
        "T_frec=0\n",
        "c=0\n",
        "for i in range (0,m):\n",
        "  print(lim_inf, \"a < \" , end='')\n",
        "  lim_sup=round(lim_inf+Amplitud,decimales)\n",
        "  #Aqui se hace la integral para la función de densidad========================================\n",
        "  def f(x):\n",
        "    return 1/(dato_mayor-dato_menor)\n",
        "  fx, error = integrate.quad(f, lim_inf, lim_sup)\n",
        "  #=============================================================================================\n",
        "  #Frecuencia observada\n",
        "  FO=0;\n",
        "  for i in range (0,n-1):\n",
        "    if lim_inf<= A_ord[j] <=lim_sup:\n",
        "      FO=FO+1;\n",
        "      j=j+1;\n",
        "    if j==n:\n",
        "      break\n",
        "\n",
        "  T_frec=T_frec+FO; #Suma las frecuencias de cada intervalo\n",
        "  #=============================================================================================\n",
        "  FE = fx*n #Frecuencia esperada\n",
        "  c = c+ ((FE-FO)**2/FE)#estimador\n",
        "  lim_inf=lim_sup\n",
        "  print(lim_sup,\"                \", end='')\n",
        "  print(FO,\"             \", end='')\n",
        "  print(fx,\"             \", end='')\n",
        "  print(FE, \"\\n\")\n",
        "print(\"Total de datos = \",T_frec)\n",
        "\n",
        "print(\"\\nCalculando el estimador, obtenemos: \\nC = \",c)\n"
      ],
      "metadata": {
        "id": "M6HN27XaP6Sr"
      },
      "execution_count": null,
      "outputs": []
    },
    {
      "cell_type": "markdown",
      "source": [
        "Si $C \\leq x^2$ correspondiente con **$m-k-1$ grados de libertad**, (donde $k =$ número de parámetros estimados de la distribución) y a un nivel de confiabilidad de $1-α$, entonces no se puede rechazar la hipótesis de que los datos siguen la distribución propuesta.\n"
      ],
      "metadata": {
        "id": "LeIh2pPkqoHy"
      }
    },
    {
      "cell_type": "code",
      "source": [
        "while True: #Ciclo para validar que la variable sea una entrada válida llamando a la función \"validar número\"\n",
        "  k=input(\"ingrese el número de parámetros estimados de la distribución: \"); #leer la variable k\n",
        "  if k.isnumeric(): # si n es un valor numérico se convertirá a entero\n",
        "    k = int(k)\n",
        "    break #terminar el ciclo\n",
        "  else: #si no es un valor numérico se mostrará el mensaje y se repetirá el ciclo\n",
        "    print(\"El valor ingresado no es un número. Intente de nuevo.\")\n",
        "\n",
        "grados_de_libertad = m-k-1;\n",
        "\n",
        "while True: #ciclo que válida que el el valor ingresado sea numérico\n",
        "  nivel_de_aceptacion = input(\"ingrese el nivel de aceptación (por ejemplo: .95 para un 95%): \")\n",
        "  if nivel_de_aceptacion.replace('.', '', 1).isdigit():#se usa .isdigit para no rechazar valores flotantes\n",
        "    nivel_de_aceptacion = float(nivel_de_aceptacion);\n",
        "    break\n",
        "  else:\n",
        "    print(\"El valor ingresado no es un número. Intente de nuevo.\");\n",
        "\n",
        "#alpha= 1-nivel_de_aceptacion\n",
        "\n",
        "chi_cuad = stats.chi2.ppf(nivel_de_aceptacion, grados_de_libertad)\n",
        "\n",
        "print(\"X^2 (\\u03B1,grados de libertad)= \",chi_cuad)\n",
        "per = nivel_de_aceptacion*100\n",
        "print(\"\\n Finalmente, dado que:\", end=\"\")\n",
        "if c<=chi_cuad:\n",
        "  print(\"c<=chi_cuad \\nse ACEPTA la hipótesis nula, es decir, los \",n, \"números son estadísticamente uniformes con un nivel de aceptación del \", per,\"%.\")\n",
        "if c>chi_cuad:\n",
        "  print(\"no se cumple c>chi_cuad \\nse RECHAZA la hipótesis nula, es decir, los \",n, \"datos no son estadísticamente uniformes con un nivel de aceptación del \", per,\"%.\")"
      ],
      "metadata": {
        "id": "kYslVoFkcH3D"
      },
      "execution_count": null,
      "outputs": []
    },
    {
      "cell_type": "markdown",
      "source": [
        "**Prueba de independencia**\n",
        "\n",
        "Demuestra que los números generados son estadísticamente independientes entre sí. Se proponen las siguientes hipótesis:\n",
        "\n",
        "$H_0 : r_i \\sim $ independiente\n",
        "\n",
        "$H_i : r_i \\sim $ dependiente\n",
        "\n",
        "Para verificar las hipótesis se realiza una **Prueba de corridas**:\n",
        "Se clasifica cada número aleatorio con respecto al anterior, de acuerdo con:\n",
        "\n",
        "Si $r_i \\leq r_{i-1}      \\Longrightarrow r_i = - = 0$\n",
        "\n",
        "Si $r_i > r_{i-1}      \\Longrightarrow r_i = + = 1$"
      ],
      "metadata": {
        "id": "xkNJgF2X0d18"
      }
    },
    {
      "cell_type": "code",
      "source": [
        "r = [];\n",
        "for i in range (1, n): #ciclo para evaluar cada dato con respecto al anterior\n",
        "  if A[i] <= A[i-1]:\n",
        "    r.append(0) #valor negativo\n",
        "  if A[i] > A[i-1]:\n",
        "    r.append(1) #valor positivo\n",
        "\n",
        "print(\"A = \",A)\n",
        "print(\"r = \",r)"
      ],
      "metadata": {
        "colab": {
          "base_uri": "https://localhost:8080/"
        },
        "id": "0ohZKA1y0jIi",
        "outputId": "7cbce397-109b-4a35-fc60-4679bf0ef8a0"
      },
      "execution_count": null,
      "outputs": [
        {
          "output_type": "stream",
          "name": "stdout",
          "text": [
            "A =  [0.97, 0.11, 0.65, 0.26, 0.98, 0.03, 0.13, 0.89, 0.21, 0.69]\n",
            "r =  [0, 1, 0, 1, 0, 1, 1, 0, 1]\n"
          ]
        }
      ]
    },
    {
      "cell_type": "markdown",
      "source": [
        "Se calculan las corridas observadas $h$. Una corrida se forma por un conjunto de números aleatorios consecutivos del mismo signo, en este caso:"
      ],
      "metadata": {
        "id": "pAy3M-0W1M56"
      }
    },
    {
      "cell_type": "code",
      "source": [
        "h=1 #Se inicializa en 1 porque el ciclo cuenta a partir del segundo signo diferente que se localice\n",
        "for i in range (1, n-1):\n",
        "  #print(i)\n",
        "  if r[i-1] != r[i]:\n",
        "    #print( \": r[\",i,\"-1] != r[\",i,\"]\")\n",
        "    h=h+1;\n",
        "    \n",
        "print(\"h = \", h)"
      ],
      "metadata": {
        "colab": {
          "base_uri": "https://localhost:8080/"
        },
        "id": "65DcOFra4bPT",
        "outputId": "7dd5e661-fa0b-4acd-9117-756cc5b4e461"
      },
      "execution_count": null,
      "outputs": [
        {
          "output_type": "stream",
          "name": "stdout",
          "text": [
            "h =  8\n"
          ]
        }
      ]
    },
    {
      "cell_type": "markdown",
      "source": [
        "Se calcula $E(h)$ y $V(h)$:\n",
        "$$E(h) = \\frac{2n-1}{3}$$\n",
        "\n",
        "$$V(h) = \\frac{16n-29}{90}$$"
      ],
      "metadata": {
        "id": "cLXoN2lo445V"
      }
    },
    {
      "cell_type": "code",
      "source": [
        "E = ((2*n)-1)/(3);\n",
        "V = ((16*n)-29)/(90);\n",
        "print(\"E(h) = (2n-1)/3 = \", \"(2*\",n,\"-1)/3 = \",E)\n",
        "print(\"V(h) = (16n-29)/90 = \", \"(16*\",n,\"-29)/90 = \",V)"
      ],
      "metadata": {
        "id": "w4Fnio3h43tx"
      },
      "execution_count": null,
      "outputs": []
    },
    {
      "cell_type": "markdown",
      "source": [
        "Se calcula el estadístico $$z = \\frac{h-E(h)}{\\sqrt{v(h)}}$$\n",
        "si es menor que el valor crítico $Z_{\\frac{\\alpha}{2}}$ se acepta la hipótesis de nula."
      ],
      "metadata": {
        "id": "MN9BgQ0k5weW"
      }
    },
    {
      "cell_type": "code",
      "source": [
        "z=(h-E)/(math.sqrt(V));\n",
        "print(\"z=(h-E(h))/(sqrt(V(h)))= \",z,end = \"\\n\\n\")\n",
        "\n",
        "alpha= 1-nivel_de_aceptacion\n",
        "nivel_significancia = alpha/2\n",
        "\n",
        "valor_critico = (-1)*st.norm.ppf(nivel_significancia)\n",
        "\n",
        "print(\"Z (\\u03B1/2) = \",valor_critico)\n",
        "\n",
        "print(\"\\nDado que:\", end=\"\")\n",
        "if z<valor_critico:\n",
        "  print(\"z<Z(\\u03B1/2) \\nse ACEPTA la hipótesis nula, es decir, los \",n, \"números son estadísticamente independientes con un nivel de aceptación del \", per,\"%.\")\n",
        "if z>= valor_critico:\n",
        "  print(\"no se cumple z>=Z(\\u03B1/2) \\nse RECHAZA la hipótesis nula, es decir, los \",n, \"datos no son estadísticamente independientes con un nivel de aceptación del \", per,\"%.\")"
      ],
      "metadata": {
        "id": "e_V7ehqY5eUB"
      },
      "execution_count": null,
      "outputs": []
    },
    {
      "cell_type": "markdown",
      "source": [
        "**Prueba de uniformidad Kolmogorov-Smirnov**\n",
        "\n",
        "*Es recomendable para conjuntos $r_i$ pequeños $n<30$.*\n",
        "\n",
        "Primero, se ordenan de menor a mayor los números del conjunto $r_i$"
      ],
      "metadata": {
        "id": "y_uGto1s-bCT"
      }
    },
    {
      "cell_type": "code",
      "source": [
        "print(A_ord)"
      ],
      "metadata": {
        "id": "F5Y9CICs_fi2"
      },
      "execution_count": null,
      "outputs": []
    },
    {
      "cell_type": "markdown",
      "source": [
        "Se determinan los valores de: $D^+$, $D^-$, y $D$ con las siguientes ecuaciones:\n",
        "\n",
        "$$D^+ = max_{1<i<n} \\{\\frac{i}{n}-r_i\\}$$\n",
        "\n",
        "$$D^- = max_{1<i<n} \\{r_i - \\frac{i-1}{n}\\}$$\n",
        "\n",
        "$$D = max(D^+, D^-)$$"
      ],
      "metadata": {
        "id": "f-eKkJ5-_kn6"
      }
    },
    {
      "cell_type": "code",
      "source": [
        "D_plus = []\n",
        "D_minus = []\n",
        "\n",
        "for i in range (0,n): #Ciclo que hará las operaciones por cada i y las guardará en un array \n",
        "  #R = A_ord[i]\n",
        "  j=i+1\n",
        "  D_plus.append( (j/n)-A_ord[i])\n",
        "  D_minus.append( A_ord[i]-((j-1)/n))\n",
        "  \n",
        "#Dado que ya estan los array, solo se imprmirá el mayor en cada caso\n",
        "print(\"D+ = \", max(D_plus))\n",
        "print(\"D- = \", max(D_minus))\n",
        "D=max(max(D_plus),max(D_minus))\n",
        "print(\"D = \",D)"
      ],
      "metadata": {
        "colab": {
          "base_uri": "https://localhost:8080/"
        },
        "id": "CvFr_43qBNDt",
        "outputId": "84adbe20-8199-45e6-b6fd-60c1ce2de095"
      },
      "execution_count": null,
      "outputs": [
        {
          "output_type": "stream",
          "name": "stdout",
          "text": [
            "D+ =  0.24\n",
            "D- =  0.19000000000000006\n",
            "D =  0.24\n"
          ]
        }
      ]
    },
    {
      "cell_type": "markdown",
      "source": [
        "Se determina el valor crítico $D_{\\alpha,n}$ de la tabla de valores críticos de Kolmogorov-Smirnov."
      ],
      "metadata": {
        "id": "_BeIIuPvHyBo"
      }
    },
    {
      "cell_type": "code",
      "source": [
        "ks_critico = kstwobign.isf(alpha/2)/np.sqrt(n)\n",
        "print(\"valor crítico = \", ks_critico)"
      ],
      "metadata": {
        "id": "JmN5_25d8RZ9"
      },
      "execution_count": null,
      "outputs": []
    },
    {
      "cell_type": "markdown",
      "source": [
        "Finalmente, si $D > D_{\\alpha, n}$ se concluye que el conjunto $r_i$ no sigue una distribución uniforme; de lo contrario se acepta que si la sigue."
      ],
      "metadata": {
        "id": "bvWdXS-8ElQT"
      }
    },
    {
      "cell_type": "code",
      "source": [
        "print(D,\">\",ks_critico)\n",
        "if D >ks_critico:\n",
        "   print(\"El conjunto de números no sigue una distribución uniforme\")\n",
        "if D <=ks_critico:\n",
        "   print(\"El conjunto de números sigue una distribución uniforme\")"
      ],
      "metadata": {
        "id": "JebTsbeWEkQg"
      },
      "execution_count": null,
      "outputs": []
    }
  ]
}